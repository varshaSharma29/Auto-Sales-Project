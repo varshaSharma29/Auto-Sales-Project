{
 "cells": [
  {
   "cell_type": "markdown",
   "id": "6205cbf5-3346-42e5-94af-3cc116c48c3f",
   "metadata": {},
   "source": [
    "# Understanding The Dataset\n",
    "#### ORDERNUMBER: This column represents the unique identification number assigned to each order.\n",
    "#### QUANTITYORDERED: It indicates the number of items ordered in each order.\n",
    "#### PRICEEACH: This column specifies the price of each item in the order.\n",
    "#### ORDERLINENUMBER: It represents the line number of each item within an order.\n",
    "#### SALES: This column denotes the total sales amount for each order, which is calculated by multiplying the quantity ordered by the price of each item.\n",
    "#### ORDERDATE: It denotes the date on which the order was placed.\n",
    "#### DAYS_SINCE_LASTORDER: This column represents the number of days that have passed since the last order for each customer. It can be used to analyze customer purchasing patterns.\n",
    "#### STATUS: It indicates the status of the order, such as \"Shipped,\" \"In Process,\" \"Cancelled,\" \"Disputed,\" \"On Hold,\" or \"Resolved.\"\n",
    "#### PRODUCTLINE: This column specifies the product line categories to which each item belongs.\n",
    "#### MSRP: It stands for Manufacturer's Suggested Retail Price and represents the suggested selling price for each item.\n",
    "#### PRODUCTCODE: This column represents the unique code assigned to each product.\n",
    "#### CUSTOMERNAME: It denotes the name of the customer who placed the order.\n",
    "#### PHONE: This column contains the contact phone number for the customer.\n",
    "#### ADDRESSLINE1: It represents the first line of the customer's address.\n",
    "#### CITY: This column specifies the city where the customer is located.\n",
    "#### POSTALCODE: It denotes the postal code or ZIP code associated with the customer's address.\n",
    "#### COUNTRY: This column indicates the country where the customer is located.\n",
    "#### CONTACTLASTNAME: It represents the last name of the contact person associated with the customer.\n",
    "#### CONTACTFIRSTNAME: This column denotes the first name of the contact person associated with the customer.\n",
    "#### DEALSIZE: It indicates the size of the deal or order, which are the categories \"Small,\" \"Medium,\" or \"Large."
   ]
  },
  {
   "cell_type": "code",
   "execution_count": 61,
   "id": "1cf528e0-fa84-4b62-af95-fe63c055d65b",
   "metadata": {},
   "outputs": [],
   "source": [
    "import pandas as pd\n",
    "import numpy as np \n",
    "import matplotlib.pyplot as plt \n",
    "import seaborn as sns \n",
    "import re \n",
    "import warnings\n",
    "warnings.filterwarnings(\"ignore\")\n",
    "%matplotlib inline"
   ]
  },
  {
   "cell_type": "code",
   "execution_count": 62,
   "id": "75df4dae-751e-46aa-a968-9b8ccb6e7277",
   "metadata": {},
   "outputs": [],
   "source": [
    "df1=pd.read_csv(r\"C:\\Users\\varsha\\OneDrive\\Desktop\\New folder\\Project\\Auto Sales data.csv\")"
   ]
  },
  {
   "cell_type": "code",
   "execution_count": 63,
   "id": "e902bc7c-80fb-4564-81d6-b6dbad2ff762",
   "metadata": {},
   "outputs": [
    {
     "data": {
      "text/html": [
       "<div>\n",
       "<style scoped>\n",
       "    .dataframe tbody tr th:only-of-type {\n",
       "        vertical-align: middle;\n",
       "    }\n",
       "\n",
       "    .dataframe tbody tr th {\n",
       "        vertical-align: top;\n",
       "    }\n",
       "\n",
       "    .dataframe thead th {\n",
       "        text-align: right;\n",
       "    }\n",
       "</style>\n",
       "<table border=\"1\" class=\"dataframe\">\n",
       "  <thead>\n",
       "    <tr style=\"text-align: right;\">\n",
       "      <th></th>\n",
       "      <th>ORDERNUMBER</th>\n",
       "      <th>QUANTITYORDERED</th>\n",
       "      <th>PRICEEACH</th>\n",
       "      <th>ORDERLINENUMBER</th>\n",
       "      <th>SALES</th>\n",
       "      <th>ORDERDATE</th>\n",
       "      <th>DAYS_SINCE_LASTORDER</th>\n",
       "      <th>STATUS</th>\n",
       "      <th>PRODUCTLINE</th>\n",
       "      <th>MSRP</th>\n",
       "      <th>PRODUCTCODE</th>\n",
       "      <th>CUSTOMERNAME</th>\n",
       "      <th>PHONE</th>\n",
       "      <th>ADDRESSLINE1</th>\n",
       "      <th>CITY</th>\n",
       "      <th>POSTALCODE</th>\n",
       "      <th>COUNTRY</th>\n",
       "      <th>CONTACTLASTNAME</th>\n",
       "      <th>CONTACTFIRSTNAME</th>\n",
       "      <th>DEALSIZE</th>\n",
       "    </tr>\n",
       "  </thead>\n",
       "  <tbody>\n",
       "    <tr>\n",
       "      <th>0</th>\n",
       "      <td>10107</td>\n",
       "      <td>30</td>\n",
       "      <td>95.70</td>\n",
       "      <td>2</td>\n",
       "      <td>2871.00</td>\n",
       "      <td>24/02/2018</td>\n",
       "      <td>828</td>\n",
       "      <td>Shipped</td>\n",
       "      <td>Motorcycles</td>\n",
       "      <td>95</td>\n",
       "      <td>S10_1678</td>\n",
       "      <td>Land of Toys Inc.</td>\n",
       "      <td>2125557818</td>\n",
       "      <td>897 Long Airport Avenue</td>\n",
       "      <td>NYC</td>\n",
       "      <td>10022</td>\n",
       "      <td>USA</td>\n",
       "      <td>Yu</td>\n",
       "      <td>Kwai</td>\n",
       "      <td>Small</td>\n",
       "    </tr>\n",
       "    <tr>\n",
       "      <th>1</th>\n",
       "      <td>10121</td>\n",
       "      <td>34</td>\n",
       "      <td>81.35</td>\n",
       "      <td>5</td>\n",
       "      <td>2765.90</td>\n",
       "      <td>07/05/2018</td>\n",
       "      <td>757</td>\n",
       "      <td>Shipped</td>\n",
       "      <td>Motorcycles</td>\n",
       "      <td>95</td>\n",
       "      <td>S10_1678</td>\n",
       "      <td>Reims Collectables</td>\n",
       "      <td>26.47.1555</td>\n",
       "      <td>59 rue de l'Abbaye</td>\n",
       "      <td>Reims</td>\n",
       "      <td>51100</td>\n",
       "      <td>France</td>\n",
       "      <td>Henriot</td>\n",
       "      <td>Paul</td>\n",
       "      <td>Small</td>\n",
       "    </tr>\n",
       "    <tr>\n",
       "      <th>2</th>\n",
       "      <td>10134</td>\n",
       "      <td>41</td>\n",
       "      <td>94.74</td>\n",
       "      <td>2</td>\n",
       "      <td>3884.34</td>\n",
       "      <td>01/07/2018</td>\n",
       "      <td>703</td>\n",
       "      <td>Shipped</td>\n",
       "      <td>Motorcycles</td>\n",
       "      <td>95</td>\n",
       "      <td>S10_1678</td>\n",
       "      <td>Lyon Souveniers</td>\n",
       "      <td>+33 1 46 62 7555</td>\n",
       "      <td>27 rue du Colonel Pierre Avia</td>\n",
       "      <td>Paris</td>\n",
       "      <td>75508</td>\n",
       "      <td>France</td>\n",
       "      <td>Da Cunha</td>\n",
       "      <td>Daniel</td>\n",
       "      <td>Medium</td>\n",
       "    </tr>\n",
       "    <tr>\n",
       "      <th>3</th>\n",
       "      <td>10145</td>\n",
       "      <td>45</td>\n",
       "      <td>83.26</td>\n",
       "      <td>6</td>\n",
       "      <td>3746.70</td>\n",
       "      <td>25/08/2018</td>\n",
       "      <td>649</td>\n",
       "      <td>Shipped</td>\n",
       "      <td>Motorcycles</td>\n",
       "      <td>95</td>\n",
       "      <td>S10_1678</td>\n",
       "      <td>Toys4GrownUps.com</td>\n",
       "      <td>6265557265</td>\n",
       "      <td>78934 Hillside Dr.</td>\n",
       "      <td>Pasadena</td>\n",
       "      <td>90003</td>\n",
       "      <td>USA</td>\n",
       "      <td>Young</td>\n",
       "      <td>Julie</td>\n",
       "      <td>Medium</td>\n",
       "    </tr>\n",
       "    <tr>\n",
       "      <th>4</th>\n",
       "      <td>10168</td>\n",
       "      <td>36</td>\n",
       "      <td>96.66</td>\n",
       "      <td>1</td>\n",
       "      <td>3479.76</td>\n",
       "      <td>28/10/2018</td>\n",
       "      <td>586</td>\n",
       "      <td>Shipped</td>\n",
       "      <td>Motorcycles</td>\n",
       "      <td>95</td>\n",
       "      <td>S10_1678</td>\n",
       "      <td>Technics Stores Inc.</td>\n",
       "      <td>6505556809</td>\n",
       "      <td>9408 Furth Circle</td>\n",
       "      <td>Burlingame</td>\n",
       "      <td>94217</td>\n",
       "      <td>USA</td>\n",
       "      <td>Hirano</td>\n",
       "      <td>Juri</td>\n",
       "      <td>Medium</td>\n",
       "    </tr>\n",
       "    <tr>\n",
       "      <th>...</th>\n",
       "      <td>...</td>\n",
       "      <td>...</td>\n",
       "      <td>...</td>\n",
       "      <td>...</td>\n",
       "      <td>...</td>\n",
       "      <td>...</td>\n",
       "      <td>...</td>\n",
       "      <td>...</td>\n",
       "      <td>...</td>\n",
       "      <td>...</td>\n",
       "      <td>...</td>\n",
       "      <td>...</td>\n",
       "      <td>...</td>\n",
       "      <td>...</td>\n",
       "      <td>...</td>\n",
       "      <td>...</td>\n",
       "      <td>...</td>\n",
       "      <td>...</td>\n",
       "      <td>...</td>\n",
       "      <td>...</td>\n",
       "    </tr>\n",
       "    <tr>\n",
       "      <th>2742</th>\n",
       "      <td>10350</td>\n",
       "      <td>20</td>\n",
       "      <td>112.22</td>\n",
       "      <td>15</td>\n",
       "      <td>2244.40</td>\n",
       "      <td>02/12/2019</td>\n",
       "      <td>2924</td>\n",
       "      <td>Shipped</td>\n",
       "      <td>Ships</td>\n",
       "      <td>54</td>\n",
       "      <td>S72_3212</td>\n",
       "      <td>Euro Shopping Channel</td>\n",
       "      <td>(91) 555 94 44</td>\n",
       "      <td>C/ Moralzarzal, 86</td>\n",
       "      <td>Madrid</td>\n",
       "      <td>28034</td>\n",
       "      <td>Spain</td>\n",
       "      <td>Freyre</td>\n",
       "      <td>Diego</td>\n",
       "      <td>Small</td>\n",
       "    </tr>\n",
       "    <tr>\n",
       "      <th>2743</th>\n",
       "      <td>10373</td>\n",
       "      <td>29</td>\n",
       "      <td>137.19</td>\n",
       "      <td>1</td>\n",
       "      <td>3978.51</td>\n",
       "      <td>31/01/2020</td>\n",
       "      <td>2865</td>\n",
       "      <td>Shipped</td>\n",
       "      <td>Ships</td>\n",
       "      <td>54</td>\n",
       "      <td>S72_3212</td>\n",
       "      <td>Oulu Toy Supplies, Inc.</td>\n",
       "      <td>981-443655</td>\n",
       "      <td>Torikatu 38</td>\n",
       "      <td>Oulu</td>\n",
       "      <td>90110</td>\n",
       "      <td>Finland</td>\n",
       "      <td>Koskitalo</td>\n",
       "      <td>Pirkko</td>\n",
       "      <td>Medium</td>\n",
       "    </tr>\n",
       "    <tr>\n",
       "      <th>2744</th>\n",
       "      <td>10386</td>\n",
       "      <td>43</td>\n",
       "      <td>125.99</td>\n",
       "      <td>4</td>\n",
       "      <td>5417.57</td>\n",
       "      <td>01/03/2020</td>\n",
       "      <td>2836</td>\n",
       "      <td>Resolved</td>\n",
       "      <td>Ships</td>\n",
       "      <td>54</td>\n",
       "      <td>S72_3212</td>\n",
       "      <td>Euro Shopping Channel</td>\n",
       "      <td>(91) 555 94 44</td>\n",
       "      <td>C/ Moralzarzal, 86</td>\n",
       "      <td>Madrid</td>\n",
       "      <td>28034</td>\n",
       "      <td>Spain</td>\n",
       "      <td>Freyre</td>\n",
       "      <td>Diego</td>\n",
       "      <td>Medium</td>\n",
       "    </tr>\n",
       "    <tr>\n",
       "      <th>2745</th>\n",
       "      <td>10397</td>\n",
       "      <td>34</td>\n",
       "      <td>62.24</td>\n",
       "      <td>1</td>\n",
       "      <td>2116.16</td>\n",
       "      <td>28/03/2020</td>\n",
       "      <td>2810</td>\n",
       "      <td>Shipped</td>\n",
       "      <td>Ships</td>\n",
       "      <td>54</td>\n",
       "      <td>S72_3212</td>\n",
       "      <td>Alpha Cognac</td>\n",
       "      <td>61.77.6555</td>\n",
       "      <td>1 rue Alsace-Lorraine</td>\n",
       "      <td>Toulouse</td>\n",
       "      <td>31000</td>\n",
       "      <td>France</td>\n",
       "      <td>Roulet</td>\n",
       "      <td>Annette</td>\n",
       "      <td>Small</td>\n",
       "    </tr>\n",
       "    <tr>\n",
       "      <th>2746</th>\n",
       "      <td>10414</td>\n",
       "      <td>47</td>\n",
       "      <td>65.52</td>\n",
       "      <td>9</td>\n",
       "      <td>3079.44</td>\n",
       "      <td>06/05/2020</td>\n",
       "      <td>2772</td>\n",
       "      <td>On Hold</td>\n",
       "      <td>Ships</td>\n",
       "      <td>54</td>\n",
       "      <td>S72_3212</td>\n",
       "      <td>Gifts4AllAges.com</td>\n",
       "      <td>6175559555</td>\n",
       "      <td>8616 Spinnaker Dr.</td>\n",
       "      <td>Boston</td>\n",
       "      <td>51003</td>\n",
       "      <td>USA</td>\n",
       "      <td>Yoshido</td>\n",
       "      <td>Juri</td>\n",
       "      <td>Medium</td>\n",
       "    </tr>\n",
       "  </tbody>\n",
       "</table>\n",
       "<p>2747 rows × 20 columns</p>\n",
       "</div>"
      ],
      "text/plain": [
       "      ORDERNUMBER  QUANTITYORDERED  PRICEEACH  ORDERLINENUMBER    SALES  \\\n",
       "0           10107               30      95.70                2  2871.00   \n",
       "1           10121               34      81.35                5  2765.90   \n",
       "2           10134               41      94.74                2  3884.34   \n",
       "3           10145               45      83.26                6  3746.70   \n",
       "4           10168               36      96.66                1  3479.76   \n",
       "...           ...              ...        ...              ...      ...   \n",
       "2742        10350               20     112.22               15  2244.40   \n",
       "2743        10373               29     137.19                1  3978.51   \n",
       "2744        10386               43     125.99                4  5417.57   \n",
       "2745        10397               34      62.24                1  2116.16   \n",
       "2746        10414               47      65.52                9  3079.44   \n",
       "\n",
       "       ORDERDATE  DAYS_SINCE_LASTORDER    STATUS  PRODUCTLINE  MSRP  \\\n",
       "0     24/02/2018                   828   Shipped  Motorcycles    95   \n",
       "1     07/05/2018                   757   Shipped  Motorcycles    95   \n",
       "2     01/07/2018                   703   Shipped  Motorcycles    95   \n",
       "3     25/08/2018                   649   Shipped  Motorcycles    95   \n",
       "4     28/10/2018                   586   Shipped  Motorcycles    95   \n",
       "...          ...                   ...       ...          ...   ...   \n",
       "2742  02/12/2019                  2924   Shipped        Ships    54   \n",
       "2743  31/01/2020                  2865   Shipped        Ships    54   \n",
       "2744  01/03/2020                  2836  Resolved        Ships    54   \n",
       "2745  28/03/2020                  2810   Shipped        Ships    54   \n",
       "2746  06/05/2020                  2772   On Hold        Ships    54   \n",
       "\n",
       "     PRODUCTCODE             CUSTOMERNAME             PHONE  \\\n",
       "0       S10_1678        Land of Toys Inc.        2125557818   \n",
       "1       S10_1678       Reims Collectables        26.47.1555   \n",
       "2       S10_1678          Lyon Souveniers  +33 1 46 62 7555   \n",
       "3       S10_1678        Toys4GrownUps.com        6265557265   \n",
       "4       S10_1678     Technics Stores Inc.        6505556809   \n",
       "...          ...                      ...               ...   \n",
       "2742    S72_3212    Euro Shopping Channel    (91) 555 94 44   \n",
       "2743    S72_3212  Oulu Toy Supplies, Inc.        981-443655   \n",
       "2744    S72_3212    Euro Shopping Channel    (91) 555 94 44   \n",
       "2745    S72_3212             Alpha Cognac        61.77.6555   \n",
       "2746    S72_3212        Gifts4AllAges.com        6175559555   \n",
       "\n",
       "                       ADDRESSLINE1        CITY POSTALCODE  COUNTRY  \\\n",
       "0           897 Long Airport Avenue         NYC      10022      USA   \n",
       "1                59 rue de l'Abbaye       Reims      51100   France   \n",
       "2     27 rue du Colonel Pierre Avia       Paris      75508   France   \n",
       "3                78934 Hillside Dr.    Pasadena      90003      USA   \n",
       "4                 9408 Furth Circle  Burlingame      94217      USA   \n",
       "...                             ...         ...        ...      ...   \n",
       "2742             C/ Moralzarzal, 86      Madrid      28034    Spain   \n",
       "2743                    Torikatu 38        Oulu      90110  Finland   \n",
       "2744             C/ Moralzarzal, 86      Madrid      28034    Spain   \n",
       "2745          1 rue Alsace-Lorraine    Toulouse      31000   France   \n",
       "2746             8616 Spinnaker Dr.      Boston      51003      USA   \n",
       "\n",
       "     CONTACTLASTNAME CONTACTFIRSTNAME DEALSIZE  \n",
       "0                 Yu             Kwai    Small  \n",
       "1            Henriot             Paul    Small  \n",
       "2           Da Cunha           Daniel   Medium  \n",
       "3              Young            Julie   Medium  \n",
       "4             Hirano             Juri   Medium  \n",
       "...              ...              ...      ...  \n",
       "2742          Freyre            Diego    Small  \n",
       "2743       Koskitalo           Pirkko   Medium  \n",
       "2744          Freyre            Diego   Medium  \n",
       "2745          Roulet          Annette    Small  \n",
       "2746         Yoshido             Juri   Medium  \n",
       "\n",
       "[2747 rows x 20 columns]"
      ]
     },
     "execution_count": 63,
     "metadata": {},
     "output_type": "execute_result"
    }
   ],
   "source": [
    "df1"
   ]
  },
  {
   "cell_type": "code",
   "execution_count": 64,
   "id": "74e48c44-1ae5-4f6c-8dff-299c450f8b16",
   "metadata": {},
   "outputs": [
    {
     "name": "stdout",
     "output_type": "stream",
     "text": [
      "<class 'pandas.core.frame.DataFrame'>\n",
      "RangeIndex: 2747 entries, 0 to 2746\n",
      "Data columns (total 20 columns):\n",
      " #   Column                Non-Null Count  Dtype  \n",
      "---  ------                --------------  -----  \n",
      " 0   ORDERNUMBER           2747 non-null   int64  \n",
      " 1   QUANTITYORDERED       2747 non-null   int64  \n",
      " 2   PRICEEACH             2747 non-null   float64\n",
      " 3   ORDERLINENUMBER       2747 non-null   int64  \n",
      " 4   SALES                 2747 non-null   float64\n",
      " 5   ORDERDATE             2747 non-null   object \n",
      " 6   DAYS_SINCE_LASTORDER  2747 non-null   int64  \n",
      " 7   STATUS                2747 non-null   object \n",
      " 8   PRODUCTLINE           2747 non-null   object \n",
      " 9   MSRP                  2747 non-null   int64  \n",
      " 10  PRODUCTCODE           2747 non-null   object \n",
      " 11  CUSTOMERNAME          2747 non-null   object \n",
      " 12  PHONE                 2747 non-null   object \n",
      " 13  ADDRESSLINE1          2747 non-null   object \n",
      " 14  CITY                  2747 non-null   object \n",
      " 15  POSTALCODE            2747 non-null   object \n",
      " 16  COUNTRY               2747 non-null   object \n",
      " 17  CONTACTLASTNAME       2747 non-null   object \n",
      " 18  CONTACTFIRSTNAME      2747 non-null   object \n",
      " 19  DEALSIZE              2747 non-null   object \n",
      "dtypes: float64(2), int64(5), object(13)\n",
      "memory usage: 429.3+ KB\n"
     ]
    }
   ],
   "source": [
    "df1.info()"
   ]
  },
  {
   "cell_type": "code",
   "execution_count": 65,
   "id": "fe93971c-ee17-4059-8729-d2ec99aa49c3",
   "metadata": {},
   "outputs": [],
   "source": [
    "df=df1.copy()"
   ]
  },
  {
   "cell_type": "code",
   "execution_count": 66,
   "id": "b41adbbf-4d4a-49f6-9511-5fa2ee8bf3bf",
   "metadata": {},
   "outputs": [
    {
     "data": {
      "text/plain": [
       "(2747, 20)"
      ]
     },
     "execution_count": 66,
     "metadata": {},
     "output_type": "execute_result"
    }
   ],
   "source": [
    "df.shape"
   ]
  },
  {
   "cell_type": "code",
   "execution_count": 67,
   "id": "3dbaa45c-923a-435d-a5c6-0d64239225a0",
   "metadata": {},
   "outputs": [
    {
     "data": {
      "text/plain": [
       "ORDERNUMBER             0\n",
       "QUANTITYORDERED         0\n",
       "PRICEEACH               0\n",
       "ORDERLINENUMBER         0\n",
       "SALES                   0\n",
       "ORDERDATE               0\n",
       "DAYS_SINCE_LASTORDER    0\n",
       "STATUS                  0\n",
       "PRODUCTLINE             0\n",
       "MSRP                    0\n",
       "PRODUCTCODE             0\n",
       "CUSTOMERNAME            0\n",
       "PHONE                   0\n",
       "ADDRESSLINE1            0\n",
       "CITY                    0\n",
       "POSTALCODE              0\n",
       "COUNTRY                 0\n",
       "CONTACTLASTNAME         0\n",
       "CONTACTFIRSTNAME        0\n",
       "DEALSIZE                0\n",
       "dtype: int64"
      ]
     },
     "execution_count": 67,
     "metadata": {},
     "output_type": "execute_result"
    }
   ],
   "source": [
    "df.isnull().sum()"
   ]
  },
  {
   "cell_type": "code",
   "execution_count": 68,
   "id": "04446ddf-246d-49b3-9746-39be4d5176e7",
   "metadata": {},
   "outputs": [
    {
     "data": {
      "text/plain": [
       "array(['Shipped', 'Disputed', 'In Process', 'Cancelled', 'On Hold',\n",
       "       'Resolved'], dtype=object)"
      ]
     },
     "execution_count": 68,
     "metadata": {},
     "output_type": "execute_result"
    }
   ],
   "source": [
    "df['STATUS'].unique()"
   ]
  },
  {
   "cell_type": "code",
   "execution_count": 69,
   "id": "ebd34dd7-b98e-4874-bd5c-325e4669baea",
   "metadata": {},
   "outputs": [
    {
     "data": {
      "text/html": [
       "<div>\n",
       "<style scoped>\n",
       "    .dataframe tbody tr th:only-of-type {\n",
       "        vertical-align: middle;\n",
       "    }\n",
       "\n",
       "    .dataframe tbody tr th {\n",
       "        vertical-align: top;\n",
       "    }\n",
       "\n",
       "    .dataframe thead th {\n",
       "        text-align: right;\n",
       "    }\n",
       "</style>\n",
       "<table border=\"1\" class=\"dataframe\">\n",
       "  <thead>\n",
       "    <tr style=\"text-align: right;\">\n",
       "      <th></th>\n",
       "      <th>count</th>\n",
       "      <th>mean</th>\n",
       "      <th>std</th>\n",
       "      <th>min</th>\n",
       "      <th>25%</th>\n",
       "      <th>50%</th>\n",
       "      <th>75%</th>\n",
       "      <th>max</th>\n",
       "    </tr>\n",
       "  </thead>\n",
       "  <tbody>\n",
       "    <tr>\n",
       "      <th>ORDERNUMBER</th>\n",
       "      <td>2747.0</td>\n",
       "      <td>10259.761558</td>\n",
       "      <td>91.877521</td>\n",
       "      <td>10100.00</td>\n",
       "      <td>10181.000</td>\n",
       "      <td>10264.00</td>\n",
       "      <td>10334.500</td>\n",
       "      <td>10425.00</td>\n",
       "    </tr>\n",
       "    <tr>\n",
       "      <th>QUANTITYORDERED</th>\n",
       "      <td>2747.0</td>\n",
       "      <td>35.103021</td>\n",
       "      <td>9.762135</td>\n",
       "      <td>6.00</td>\n",
       "      <td>27.000</td>\n",
       "      <td>35.00</td>\n",
       "      <td>43.000</td>\n",
       "      <td>97.00</td>\n",
       "    </tr>\n",
       "    <tr>\n",
       "      <th>PRICEEACH</th>\n",
       "      <td>2747.0</td>\n",
       "      <td>101.098952</td>\n",
       "      <td>42.042549</td>\n",
       "      <td>26.88</td>\n",
       "      <td>68.745</td>\n",
       "      <td>95.55</td>\n",
       "      <td>127.100</td>\n",
       "      <td>252.87</td>\n",
       "    </tr>\n",
       "    <tr>\n",
       "      <th>ORDERLINENUMBER</th>\n",
       "      <td>2747.0</td>\n",
       "      <td>6.491081</td>\n",
       "      <td>4.230544</td>\n",
       "      <td>1.00</td>\n",
       "      <td>3.000</td>\n",
       "      <td>6.00</td>\n",
       "      <td>9.000</td>\n",
       "      <td>18.00</td>\n",
       "    </tr>\n",
       "    <tr>\n",
       "      <th>SALES</th>\n",
       "      <td>2747.0</td>\n",
       "      <td>3553.047583</td>\n",
       "      <td>1838.953901</td>\n",
       "      <td>482.13</td>\n",
       "      <td>2204.350</td>\n",
       "      <td>3184.80</td>\n",
       "      <td>4503.095</td>\n",
       "      <td>14082.80</td>\n",
       "    </tr>\n",
       "    <tr>\n",
       "      <th>DAYS_SINCE_LASTORDER</th>\n",
       "      <td>2747.0</td>\n",
       "      <td>1757.085912</td>\n",
       "      <td>819.280576</td>\n",
       "      <td>42.00</td>\n",
       "      <td>1077.000</td>\n",
       "      <td>1761.00</td>\n",
       "      <td>2436.500</td>\n",
       "      <td>3562.00</td>\n",
       "    </tr>\n",
       "    <tr>\n",
       "      <th>MSRP</th>\n",
       "      <td>2747.0</td>\n",
       "      <td>100.691664</td>\n",
       "      <td>40.114802</td>\n",
       "      <td>33.00</td>\n",
       "      <td>68.000</td>\n",
       "      <td>99.00</td>\n",
       "      <td>124.000</td>\n",
       "      <td>214.00</td>\n",
       "    </tr>\n",
       "  </tbody>\n",
       "</table>\n",
       "</div>"
      ],
      "text/plain": [
       "                       count          mean          std       min        25%  \\\n",
       "ORDERNUMBER           2747.0  10259.761558    91.877521  10100.00  10181.000   \n",
       "QUANTITYORDERED       2747.0     35.103021     9.762135      6.00     27.000   \n",
       "PRICEEACH             2747.0    101.098952    42.042549     26.88     68.745   \n",
       "ORDERLINENUMBER       2747.0      6.491081     4.230544      1.00      3.000   \n",
       "SALES                 2747.0   3553.047583  1838.953901    482.13   2204.350   \n",
       "DAYS_SINCE_LASTORDER  2747.0   1757.085912   819.280576     42.00   1077.000   \n",
       "MSRP                  2747.0    100.691664    40.114802     33.00     68.000   \n",
       "\n",
       "                           50%        75%       max  \n",
       "ORDERNUMBER           10264.00  10334.500  10425.00  \n",
       "QUANTITYORDERED          35.00     43.000     97.00  \n",
       "PRICEEACH                95.55    127.100    252.87  \n",
       "ORDERLINENUMBER           6.00      9.000     18.00  \n",
       "SALES                  3184.80   4503.095  14082.80  \n",
       "DAYS_SINCE_LASTORDER   1761.00   2436.500   3562.00  \n",
       "MSRP                     99.00    124.000    214.00  "
      ]
     },
     "execution_count": 69,
     "metadata": {},
     "output_type": "execute_result"
    }
   ],
   "source": [
    "df.describe().T"
   ]
  },
  {
   "cell_type": "code",
   "execution_count": 70,
   "id": "2830cb93-d96d-4139-b759-ba389a13a7b6",
   "metadata": {},
   "outputs": [
    {
     "data": {
      "text/html": [
       "<div>\n",
       "<style scoped>\n",
       "    .dataframe tbody tr th:only-of-type {\n",
       "        vertical-align: middle;\n",
       "    }\n",
       "\n",
       "    .dataframe tbody tr th {\n",
       "        vertical-align: top;\n",
       "    }\n",
       "\n",
       "    .dataframe thead th {\n",
       "        text-align: right;\n",
       "    }\n",
       "</style>\n",
       "<table border=\"1\" class=\"dataframe\">\n",
       "  <thead>\n",
       "    <tr style=\"text-align: right;\">\n",
       "      <th></th>\n",
       "      <th>count</th>\n",
       "      <th>unique</th>\n",
       "      <th>top</th>\n",
       "      <th>freq</th>\n",
       "    </tr>\n",
       "  </thead>\n",
       "  <tbody>\n",
       "    <tr>\n",
       "      <th>ORDERDATE</th>\n",
       "      <td>2747</td>\n",
       "      <td>246</td>\n",
       "      <td>14/11/2018</td>\n",
       "      <td>38</td>\n",
       "    </tr>\n",
       "    <tr>\n",
       "      <th>STATUS</th>\n",
       "      <td>2747</td>\n",
       "      <td>6</td>\n",
       "      <td>Shipped</td>\n",
       "      <td>2541</td>\n",
       "    </tr>\n",
       "    <tr>\n",
       "      <th>PRODUCTLINE</th>\n",
       "      <td>2747</td>\n",
       "      <td>7</td>\n",
       "      <td>Classic Cars</td>\n",
       "      <td>949</td>\n",
       "    </tr>\n",
       "    <tr>\n",
       "      <th>PRODUCTCODE</th>\n",
       "      <td>2747</td>\n",
       "      <td>109</td>\n",
       "      <td>S18_3232</td>\n",
       "      <td>51</td>\n",
       "    </tr>\n",
       "    <tr>\n",
       "      <th>CUSTOMERNAME</th>\n",
       "      <td>2747</td>\n",
       "      <td>89</td>\n",
       "      <td>Euro Shopping Channel</td>\n",
       "      <td>259</td>\n",
       "    </tr>\n",
       "    <tr>\n",
       "      <th>PHONE</th>\n",
       "      <td>2747</td>\n",
       "      <td>88</td>\n",
       "      <td>(91) 555 94 44</td>\n",
       "      <td>259</td>\n",
       "    </tr>\n",
       "    <tr>\n",
       "      <th>ADDRESSLINE1</th>\n",
       "      <td>2747</td>\n",
       "      <td>89</td>\n",
       "      <td>C/ Moralzarzal, 86</td>\n",
       "      <td>259</td>\n",
       "    </tr>\n",
       "    <tr>\n",
       "      <th>CITY</th>\n",
       "      <td>2747</td>\n",
       "      <td>71</td>\n",
       "      <td>Madrid</td>\n",
       "      <td>304</td>\n",
       "    </tr>\n",
       "    <tr>\n",
       "      <th>POSTALCODE</th>\n",
       "      <td>2747</td>\n",
       "      <td>73</td>\n",
       "      <td>28034</td>\n",
       "      <td>259</td>\n",
       "    </tr>\n",
       "    <tr>\n",
       "      <th>COUNTRY</th>\n",
       "      <td>2747</td>\n",
       "      <td>19</td>\n",
       "      <td>USA</td>\n",
       "      <td>928</td>\n",
       "    </tr>\n",
       "    <tr>\n",
       "      <th>CONTACTLASTNAME</th>\n",
       "      <td>2747</td>\n",
       "      <td>76</td>\n",
       "      <td>Freyre</td>\n",
       "      <td>259</td>\n",
       "    </tr>\n",
       "    <tr>\n",
       "      <th>CONTACTFIRSTNAME</th>\n",
       "      <td>2747</td>\n",
       "      <td>72</td>\n",
       "      <td>Diego</td>\n",
       "      <td>259</td>\n",
       "    </tr>\n",
       "    <tr>\n",
       "      <th>DEALSIZE</th>\n",
       "      <td>2747</td>\n",
       "      <td>3</td>\n",
       "      <td>Medium</td>\n",
       "      <td>1349</td>\n",
       "    </tr>\n",
       "  </tbody>\n",
       "</table>\n",
       "</div>"
      ],
      "text/plain": [
       "                 count unique                    top  freq\n",
       "ORDERDATE         2747    246             14/11/2018    38\n",
       "STATUS            2747      6                Shipped  2541\n",
       "PRODUCTLINE       2747      7           Classic Cars   949\n",
       "PRODUCTCODE       2747    109               S18_3232    51\n",
       "CUSTOMERNAME      2747     89  Euro Shopping Channel   259\n",
       "PHONE             2747     88         (91) 555 94 44   259\n",
       "ADDRESSLINE1      2747     89     C/ Moralzarzal, 86   259\n",
       "CITY              2747     71                 Madrid   304\n",
       "POSTALCODE        2747     73                  28034   259\n",
       "COUNTRY           2747     19                    USA   928\n",
       "CONTACTLASTNAME   2747     76                 Freyre   259\n",
       "CONTACTFIRSTNAME  2747     72                  Diego   259\n",
       "DEALSIZE          2747      3                 Medium  1349"
      ]
     },
     "execution_count": 70,
     "metadata": {},
     "output_type": "execute_result"
    }
   ],
   "source": [
    "df.describe(include='object').T"
   ]
  },
  {
   "cell_type": "code",
   "execution_count": 71,
   "id": "f51880ab-706e-4b1d-8a75-4b3faf95d022",
   "metadata": {},
   "outputs": [
    {
     "data": {
      "text/plain": [
       "np.int64(0)"
      ]
     },
     "execution_count": 71,
     "metadata": {},
     "output_type": "execute_result"
    }
   ],
   "source": [
    "df.duplicated().sum()"
   ]
  },
  {
   "cell_type": "code",
   "execution_count": 72,
   "id": "9293582e-5ac4-4d2e-b79b-6fcadd4cab3d",
   "metadata": {},
   "outputs": [
    {
     "data": {
      "text/plain": [
       "ORDERNUMBER             0\n",
       "QUANTITYORDERED         0\n",
       "PRICEEACH               0\n",
       "ORDERLINENUMBER         0\n",
       "SALES                   0\n",
       "ORDERDATE               0\n",
       "DAYS_SINCE_LASTORDER    0\n",
       "STATUS                  0\n",
       "PRODUCTLINE             0\n",
       "MSRP                    0\n",
       "PRODUCTCODE             0\n",
       "CUSTOMERNAME            0\n",
       "PHONE                   0\n",
       "ADDRESSLINE1            0\n",
       "CITY                    0\n",
       "POSTALCODE              0\n",
       "COUNTRY                 0\n",
       "CONTACTLASTNAME         0\n",
       "CONTACTFIRSTNAME        0\n",
       "DEALSIZE                0\n",
       "dtype: int64"
      ]
     },
     "execution_count": 72,
     "metadata": {},
     "output_type": "execute_result"
    }
   ],
   "source": [
    "df.isnull().sum()"
   ]
  },
  {
   "cell_type": "markdown",
   "id": "b1881675-19d4-42e9-951a-13f74654c069",
   "metadata": {},
   "source": [
    "# Organizing Columns"
   ]
  },
  {
   "cell_type": "code",
   "execution_count": 73,
   "id": "741fdb95-110a-4e53-9fe4-b50be6429b32",
   "metadata": {},
   "outputs": [
    {
     "data": {
      "text/plain": [
       "Index(['ORDERNUMBER', 'QUANTITYORDERED', 'PRICEEACH', 'ORDERLINENUMBER',\n",
       "       'SALES', 'ORDERDATE', 'DAYS_SINCE_LASTORDER', 'STATUS', 'PRODUCTLINE',\n",
       "       'MSRP', 'PRODUCTCODE', 'CUSTOMERNAME', 'PHONE', 'ADDRESSLINE1', 'CITY',\n",
       "       'POSTALCODE', 'COUNTRY', 'CONTACTLASTNAME', 'CONTACTFIRSTNAME',\n",
       "       'DEALSIZE'],\n",
       "      dtype='object')"
      ]
     },
     "execution_count": 73,
     "metadata": {},
     "output_type": "execute_result"
    }
   ],
   "source": [
    "df.columns"
   ]
  },
  {
   "cell_type": "code",
   "execution_count": 74,
   "id": "b05bcc5f-476a-494f-ad40-84a584d1e08b",
   "metadata": {},
   "outputs": [
    {
     "data": {
      "text/plain": [
       "Index(['ordernumber', 'quantityordered', 'priceeach', 'orderlinenumber',\n",
       "       'sales', 'orderdate', 'days_since_lastorder', 'status', 'productline',\n",
       "       'msrp', 'productcode', 'customername', 'phone', 'addressline1', 'city',\n",
       "       'postalcode', 'country', 'contactlastname', 'contactfirstname',\n",
       "       'dealsize'],\n",
       "      dtype='object')"
      ]
     },
     "execution_count": 74,
     "metadata": {},
     "output_type": "execute_result"
    }
   ],
   "source": [
    "df.columns=df.columns.str.lower()\n",
    "df.columns"
   ]
  },
  {
   "cell_type": "code",
   "execution_count": 75,
   "id": "191f64ed-a531-4e5d-9771-e835eb204806",
   "metadata": {},
   "outputs": [
    {
     "data": {
      "text/plain": [
       "Index(['order_number', 'quantity_ordered', 'price_each', 'order_line_number',\n",
       "       'sales', 'order_date', 'days_since_lastorder', 'status', 'product_line',\n",
       "       'msrp', 'product_code', 'customer_name', 'phone', 'address_line1',\n",
       "       'city', 'postal_code', 'country', 'contact_last_name',\n",
       "       'contact_first_name', 'deal_size'],\n",
       "      dtype='object')"
      ]
     },
     "execution_count": 75,
     "metadata": {},
     "output_type": "execute_result"
    }
   ],
   "source": [
    "df.columns=['order_number', 'quantity_ordered', 'price_each', 'order_line_number',\n",
    "       'sales', 'order_date', 'days_since_lastorder', 'status', 'product_line',\n",
    "       'msrp', 'product_code', 'customer_name', 'phone', 'address_line1', 'city',\n",
    "       'postal_code', 'country', 'contact_last_name', 'contact_first_name',\n",
    "       'deal_size']\n",
    "df.columns"
   ]
  },
  {
   "cell_type": "markdown",
   "id": "57be9e8e-9dc0-451a-bbc8-421081a45478",
   "metadata": {},
   "source": [
    "## order_number column"
   ]
  },
  {
   "cell_type": "code",
   "execution_count": 76,
   "id": "908b9788-e064-4845-9f70-498dc9e296c7",
   "metadata": {},
   "outputs": [
    {
     "data": {
      "text/plain": [
       "298"
      ]
     },
     "execution_count": 76,
     "metadata": {},
     "output_type": "execute_result"
    }
   ],
   "source": [
    "df.order_number.nunique()"
   ]
  },
  {
   "cell_type": "code",
   "execution_count": 77,
   "id": "7b69720d-5df6-427c-9d35-b4c03105bd01",
   "metadata": {},
   "outputs": [
    {
     "data": {
      "text/plain": [
       "array([10107, 10121, 10134, 10145, 10168, 10180, 10188, 10211, 10223,\n",
       "       10237, 10251, 10263, 10275, 10285, 10299, 10309, 10318, 10329,\n",
       "       10341, 10361, 10375, 10388, 10403, 10417, 10103, 10112, 10126,\n",
       "       10140, 10150, 10163, 10174, 10183, 10194, 10206, 10215, 10228,\n",
       "       10245, 10258, 10270, 10280, 10291, 10304, 10312, 10322, 10347,\n",
       "       10357, 10369, 10391, 10411, 10424, 10120, 10210, 10236, 10298,\n",
       "       10308, 10339, 10374, 10402, 10362, 10105, 10119, 10129, 10143,\n",
       "       10155, 10167, 10178, 10186, 10197, 10222, 10248, 10261, 10273,\n",
       "       10283, 10295, 10307, 10316, 10325, 10337, 10350, 10359, 10373,\n",
       "       10395, 10400, 10414, 10114, 10164, 10175, 10207, 10217, 10229,\n",
       "       10259, 10281, 10305, 10313, 10334, 10370, 10425, 10108, 10122,\n",
       "       10135, 10147, 10169, 10181, 10191, 10203, 10225, 10238, 10253,\n",
       "       10266, 10276, 10287, 10300, 10310, 10320, 10363, 10389, 10419,\n",
       "       10117, 10127, 10142, 10153, 10165, 10176, 10185, 10196, 10208,\n",
       "       10220, 10231, 10247, 10272, 10282, 10293, 10306, 10314, 10336,\n",
       "       10348, 10371, 10382, 10413, 10113, 10216, 10189, 10224, 10319,\n",
       "       10104, 10230, 10324, 10358, 10372, 10170, 10212, 10376, 10349,\n",
       "       10396, 10377, 10115, 10141, 10151, 10184, 10195, 10219, 10246,\n",
       "       10271, 10292, 10412, 10192, 10239, 10277, 10321, 10405, 10109,\n",
       "       10136, 10148, 10161, 10171, 10204, 10240, 10278, 10301, 10331,\n",
       "       10342, 10356, 10365, 10390, 10406, 10102, 10125, 10139, 10149,\n",
       "       10173, 10182, 10193, 10205, 10227, 10244, 10256, 10289, 10332,\n",
       "       10346, 10380, 10422, 10110, 10123, 10137, 10172, 10226, 10241,\n",
       "       10288, 10311, 10343, 10367, 10378, 10407, 10106, 10131, 10198,\n",
       "       10250, 10262, 10274, 10284, 10296, 10327, 10338, 10351, 10386,\n",
       "       10398, 10416, 10100, 10124, 10214, 10302, 10344, 10379, 10420,\n",
       "       10366, 10303, 10383, 10101, 10243, 10409, 10133, 10235, 10297,\n",
       "       10353, 10401, 10255, 10421, 10257, 10423, 10269, 10392, 10130,\n",
       "       10128, 10166, 10177, 10221, 10232, 10394, 10326, 10252, 10265,\n",
       "       10290, 10323, 10330, 10355, 10146, 10264, 10286, 10249, 10328,\n",
       "       10415, 10152, 10213, 10315, 10267, 10279, 10158, 10340, 10345,\n",
       "       10190, 10368, 10335, 10154, 10233, 10385, 10242, 10408, 10317,\n",
       "       10387, 10364, 10116, 10144, 10156, 10199, 10397, 10352, 10118,\n",
       "       10294])"
      ]
     },
     "execution_count": 77,
     "metadata": {},
     "output_type": "execute_result"
    }
   ],
   "source": [
    "df.order_number.unique()"
   ]
  },
  {
   "cell_type": "markdown",
   "id": "3a237f49-b646-4ac4-aa15-45caaf511881",
   "metadata": {},
   "source": [
    "## quantity_ordered column"
   ]
  },
  {
   "cell_type": "code",
   "execution_count": 78,
   "id": "b3283d92-4cc8-4587-aa9d-14c8d8808a5a",
   "metadata": {},
   "outputs": [
    {
     "data": {
      "text/plain": [
       "58"
      ]
     },
     "execution_count": 78,
     "metadata": {},
     "output_type": "execute_result"
    }
   ],
   "source": [
    "df.quantity_ordered.nunique()"
   ]
  },
  {
   "cell_type": "code",
   "execution_count": 79,
   "id": "55f9f520-8252-43e5-a95a-22912f045eb2",
   "metadata": {},
   "outputs": [
    {
     "data": {
      "text/plain": [
       "array([30, 34, 41, 45, 36, 29, 48, 37, 23, 28, 46, 42, 20, 21, 24, 66, 26,\n",
       "       38, 47, 35, 32, 40, 50, 39, 27, 22, 44, 31, 33, 49, 43, 56, 25, 64,\n",
       "       19, 12, 55, 10, 54, 97, 61, 51, 59, 76,  6, 15, 60, 65, 58, 16, 70,\n",
       "       13, 18, 52, 11, 62, 85, 77])"
      ]
     },
     "execution_count": 79,
     "metadata": {},
     "output_type": "execute_result"
    }
   ],
   "source": [
    "df.quantity_ordered.unique()"
   ]
  },
  {
   "cell_type": "markdown",
   "id": "ebc073f7-6964-4e22-851e-85c885e66840",
   "metadata": {},
   "source": [
    "## price_each column"
   ]
  },
  {
   "cell_type": "code",
   "execution_count": 80,
   "id": "4260aac3-626a-43c7-9c90-3622cb7bcc76",
   "metadata": {},
   "outputs": [
    {
     "data": {
      "text/plain": [
       "1843"
      ]
     },
     "execution_count": 80,
     "metadata": {},
     "output_type": "execute_result"
    }
   ],
   "source": [
    "df.price_each.nunique()"
   ]
  },
  {
   "cell_type": "code",
   "execution_count": 81,
   "id": "f5a2f979-5c6c-4ad4-ab7b-c315fa1b5299",
   "metadata": {},
   "outputs": [
    {
     "data": {
      "text/plain": [
       "array([95.7 , 81.35, 94.74, ..., 55.69, 97.16, 62.24], shape=(1843,))"
      ]
     },
     "execution_count": 81,
     "metadata": {},
     "output_type": "execute_result"
    }
   ],
   "source": [
    "df.price_each.unique()"
   ]
  },
  {
   "cell_type": "markdown",
   "id": "7594d626-48cf-4f2f-b6df-796858fd7130",
   "metadata": {},
   "source": [
    "## order_line_number column"
   ]
  },
  {
   "cell_type": "code",
   "execution_count": 82,
   "id": "8e0eadac-e96d-46a5-9278-ce803ad0b42d",
   "metadata": {},
   "outputs": [
    {
     "data": {
      "text/plain": [
       "18"
      ]
     },
     "execution_count": 82,
     "metadata": {},
     "output_type": "execute_result"
    }
   ],
   "source": [
    "df.order_line_number.nunique()"
   ]
  },
  {
   "cell_type": "code",
   "execution_count": 83,
   "id": "30c82ede-376e-45a5-8cbd-e6fc69d6fb19",
   "metadata": {},
   "outputs": [
    {
     "data": {
      "text/plain": [
       "array([ 2,  5,  6,  1,  9, 14,  7, 13, 12,  4, 11,  8,  3, 10, 15, 17, 16,\n",
       "       18])"
      ]
     },
     "execution_count": 83,
     "metadata": {},
     "output_type": "execute_result"
    }
   ],
   "source": [
    "df.order_line_number.unique()"
   ]
  },
  {
   "cell_type": "markdown",
   "id": "6885f61b-8993-4905-99cb-ff679f79c161",
   "metadata": {},
   "source": [
    "## Phone"
   ]
  },
  {
   "cell_type": "code",
   "execution_count": 84,
   "id": "a5c9be43-408d-47bd-bbad-ca67077a167d",
   "metadata": {},
   "outputs": [
    {
     "data": {
      "text/plain": [
       "<bound method Series.unique of 0             2125557818\n",
       "1             26.47.1555\n",
       "2       +33 1 46 62 7555\n",
       "3             6265557265\n",
       "4             6505556809\n",
       "              ...       \n",
       "2742      (91) 555 94 44\n",
       "2743          981-443655\n",
       "2744      (91) 555 94 44\n",
       "2745          61.77.6555\n",
       "2746          6175559555\n",
       "Name: phone, Length: 2747, dtype: object>"
      ]
     },
     "execution_count": 84,
     "metadata": {},
     "output_type": "execute_result"
    }
   ],
   "source": [
    "df['phone'].unique"
   ]
  },
  {
   "cell_type": "code",
   "execution_count": 85,
   "id": "260c54d8-3581-4f18-b40f-be731114ce75",
   "metadata": {},
   "outputs": [
    {
     "data": {
      "text/html": [
       "<div>\n",
       "<style scoped>\n",
       "    .dataframe tbody tr th:only-of-type {\n",
       "        vertical-align: middle;\n",
       "    }\n",
       "\n",
       "    .dataframe tbody tr th {\n",
       "        vertical-align: top;\n",
       "    }\n",
       "\n",
       "    .dataframe thead th {\n",
       "        text-align: right;\n",
       "    }\n",
       "</style>\n",
       "<table border=\"1\" class=\"dataframe\">\n",
       "  <thead>\n",
       "    <tr style=\"text-align: right;\">\n",
       "      <th></th>\n",
       "      <th>order_number</th>\n",
       "      <th>quantity_ordered</th>\n",
       "      <th>price_each</th>\n",
       "      <th>order_line_number</th>\n",
       "      <th>sales</th>\n",
       "      <th>order_date</th>\n",
       "      <th>days_since_lastorder</th>\n",
       "      <th>status</th>\n",
       "      <th>product_line</th>\n",
       "      <th>msrp</th>\n",
       "      <th>product_code</th>\n",
       "      <th>customer_name</th>\n",
       "      <th>phone</th>\n",
       "      <th>address_line1</th>\n",
       "      <th>city</th>\n",
       "      <th>postal_code</th>\n",
       "      <th>country</th>\n",
       "      <th>contact_last_name</th>\n",
       "      <th>contact_first_name</th>\n",
       "      <th>deal_size</th>\n",
       "    </tr>\n",
       "  </thead>\n",
       "  <tbody>\n",
       "    <tr>\n",
       "      <th>0</th>\n",
       "      <td>10107</td>\n",
       "      <td>30</td>\n",
       "      <td>95.70</td>\n",
       "      <td>2</td>\n",
       "      <td>2871.00</td>\n",
       "      <td>24/02/2018</td>\n",
       "      <td>828</td>\n",
       "      <td>Shipped</td>\n",
       "      <td>Motorcycles</td>\n",
       "      <td>95</td>\n",
       "      <td>S10_1678</td>\n",
       "      <td>Land of Toys Inc.</td>\n",
       "      <td>2125557818</td>\n",
       "      <td>897 Long Airport Avenue</td>\n",
       "      <td>NYC</td>\n",
       "      <td>10022</td>\n",
       "      <td>USA</td>\n",
       "      <td>Yu</td>\n",
       "      <td>Kwai</td>\n",
       "      <td>Small</td>\n",
       "    </tr>\n",
       "    <tr>\n",
       "      <th>1</th>\n",
       "      <td>10121</td>\n",
       "      <td>34</td>\n",
       "      <td>81.35</td>\n",
       "      <td>5</td>\n",
       "      <td>2765.90</td>\n",
       "      <td>07/05/2018</td>\n",
       "      <td>757</td>\n",
       "      <td>Shipped</td>\n",
       "      <td>Motorcycles</td>\n",
       "      <td>95</td>\n",
       "      <td>S10_1678</td>\n",
       "      <td>Reims Collectables</td>\n",
       "      <td>26.47.1555</td>\n",
       "      <td>59 rue de l'Abbaye</td>\n",
       "      <td>Reims</td>\n",
       "      <td>51100</td>\n",
       "      <td>France</td>\n",
       "      <td>Henriot</td>\n",
       "      <td>Paul</td>\n",
       "      <td>Small</td>\n",
       "    </tr>\n",
       "    <tr>\n",
       "      <th>2</th>\n",
       "      <td>10134</td>\n",
       "      <td>41</td>\n",
       "      <td>94.74</td>\n",
       "      <td>2</td>\n",
       "      <td>3884.34</td>\n",
       "      <td>01/07/2018</td>\n",
       "      <td>703</td>\n",
       "      <td>Shipped</td>\n",
       "      <td>Motorcycles</td>\n",
       "      <td>95</td>\n",
       "      <td>S10_1678</td>\n",
       "      <td>Lyon Souveniers</td>\n",
       "      <td>+33 1 46 62 7555</td>\n",
       "      <td>27 rue du Colonel Pierre Avia</td>\n",
       "      <td>Paris</td>\n",
       "      <td>75508</td>\n",
       "      <td>France</td>\n",
       "      <td>Da Cunha</td>\n",
       "      <td>Daniel</td>\n",
       "      <td>Medium</td>\n",
       "    </tr>\n",
       "    <tr>\n",
       "      <th>3</th>\n",
       "      <td>10145</td>\n",
       "      <td>45</td>\n",
       "      <td>83.26</td>\n",
       "      <td>6</td>\n",
       "      <td>3746.70</td>\n",
       "      <td>25/08/2018</td>\n",
       "      <td>649</td>\n",
       "      <td>Shipped</td>\n",
       "      <td>Motorcycles</td>\n",
       "      <td>95</td>\n",
       "      <td>S10_1678</td>\n",
       "      <td>Toys4GrownUps.com</td>\n",
       "      <td>6265557265</td>\n",
       "      <td>78934 Hillside Dr.</td>\n",
       "      <td>Pasadena</td>\n",
       "      <td>90003</td>\n",
       "      <td>USA</td>\n",
       "      <td>Young</td>\n",
       "      <td>Julie</td>\n",
       "      <td>Medium</td>\n",
       "    </tr>\n",
       "    <tr>\n",
       "      <th>4</th>\n",
       "      <td>10168</td>\n",
       "      <td>36</td>\n",
       "      <td>96.66</td>\n",
       "      <td>1</td>\n",
       "      <td>3479.76</td>\n",
       "      <td>28/10/2018</td>\n",
       "      <td>586</td>\n",
       "      <td>Shipped</td>\n",
       "      <td>Motorcycles</td>\n",
       "      <td>95</td>\n",
       "      <td>S10_1678</td>\n",
       "      <td>Technics Stores Inc.</td>\n",
       "      <td>6505556809</td>\n",
       "      <td>9408 Furth Circle</td>\n",
       "      <td>Burlingame</td>\n",
       "      <td>94217</td>\n",
       "      <td>USA</td>\n",
       "      <td>Hirano</td>\n",
       "      <td>Juri</td>\n",
       "      <td>Medium</td>\n",
       "    </tr>\n",
       "  </tbody>\n",
       "</table>\n",
       "</div>"
      ],
      "text/plain": [
       "   order_number  quantity_ordered  price_each  order_line_number    sales  \\\n",
       "0         10107                30       95.70                  2  2871.00   \n",
       "1         10121                34       81.35                  5  2765.90   \n",
       "2         10134                41       94.74                  2  3884.34   \n",
       "3         10145                45       83.26                  6  3746.70   \n",
       "4         10168                36       96.66                  1  3479.76   \n",
       "\n",
       "   order_date  days_since_lastorder   status product_line  msrp product_code  \\\n",
       "0  24/02/2018                   828  Shipped  Motorcycles    95     S10_1678   \n",
       "1  07/05/2018                   757  Shipped  Motorcycles    95     S10_1678   \n",
       "2  01/07/2018                   703  Shipped  Motorcycles    95     S10_1678   \n",
       "3  25/08/2018                   649  Shipped  Motorcycles    95     S10_1678   \n",
       "4  28/10/2018                   586  Shipped  Motorcycles    95     S10_1678   \n",
       "\n",
       "          customer_name             phone                  address_line1  \\\n",
       "0     Land of Toys Inc.        2125557818        897 Long Airport Avenue   \n",
       "1    Reims Collectables        26.47.1555             59 rue de l'Abbaye   \n",
       "2       Lyon Souveniers  +33 1 46 62 7555  27 rue du Colonel Pierre Avia   \n",
       "3     Toys4GrownUps.com        6265557265             78934 Hillside Dr.   \n",
       "4  Technics Stores Inc.        6505556809              9408 Furth Circle   \n",
       "\n",
       "         city postal_code country contact_last_name contact_first_name  \\\n",
       "0         NYC       10022     USA                Yu               Kwai   \n",
       "1       Reims       51100  France           Henriot               Paul   \n",
       "2       Paris       75508  France          Da Cunha             Daniel   \n",
       "3    Pasadena       90003     USA             Young              Julie   \n",
       "4  Burlingame       94217     USA            Hirano               Juri   \n",
       "\n",
       "  deal_size  \n",
       "0     Small  \n",
       "1     Small  \n",
       "2    Medium  \n",
       "3    Medium  \n",
       "4    Medium  "
      ]
     },
     "execution_count": 85,
     "metadata": {},
     "output_type": "execute_result"
    }
   ],
   "source": [
    "df.head()"
   ]
  },
  {
   "cell_type": "code",
   "execution_count": 86,
   "id": "eb8b44a0-460e-4938-8f96-99f72a24ed14",
   "metadata": {},
   "outputs": [],
   "source": [
    "df['phone']=df['phone'].apply(lambda x: re.sub(r\"[^a-zA-Z0-9]\",\"\",x))"
   ]
  },
  {
   "cell_type": "code",
   "execution_count": 87,
   "id": "7c355a07-301f-4284-b42f-5ca10edc1af7",
   "metadata": {},
   "outputs": [],
   "source": [
    "df['phone']=df['phone'].str.replace('+','')"
   ]
  },
  {
   "cell_type": "code",
   "execution_count": 88,
   "id": "fe0fb6a1-ea80-4efa-b871-3f04a150ae02",
   "metadata": {},
   "outputs": [
    {
     "data": {
      "text/html": [
       "<div>\n",
       "<style scoped>\n",
       "    .dataframe tbody tr th:only-of-type {\n",
       "        vertical-align: middle;\n",
       "    }\n",
       "\n",
       "    .dataframe tbody tr th {\n",
       "        vertical-align: top;\n",
       "    }\n",
       "\n",
       "    .dataframe thead th {\n",
       "        text-align: right;\n",
       "    }\n",
       "</style>\n",
       "<table border=\"1\" class=\"dataframe\">\n",
       "  <thead>\n",
       "    <tr style=\"text-align: right;\">\n",
       "      <th></th>\n",
       "      <th>order_number</th>\n",
       "      <th>quantity_ordered</th>\n",
       "      <th>price_each</th>\n",
       "      <th>order_line_number</th>\n",
       "      <th>sales</th>\n",
       "      <th>order_date</th>\n",
       "      <th>days_since_lastorder</th>\n",
       "      <th>status</th>\n",
       "      <th>product_line</th>\n",
       "      <th>msrp</th>\n",
       "      <th>product_code</th>\n",
       "      <th>customer_name</th>\n",
       "      <th>phone</th>\n",
       "      <th>address_line1</th>\n",
       "      <th>city</th>\n",
       "      <th>postal_code</th>\n",
       "      <th>country</th>\n",
       "      <th>contact_last_name</th>\n",
       "      <th>contact_first_name</th>\n",
       "      <th>deal_size</th>\n",
       "    </tr>\n",
       "  </thead>\n",
       "  <tbody>\n",
       "    <tr>\n",
       "      <th>0</th>\n",
       "      <td>10107</td>\n",
       "      <td>30</td>\n",
       "      <td>95.70</td>\n",
       "      <td>2</td>\n",
       "      <td>2871.00</td>\n",
       "      <td>24/02/2018</td>\n",
       "      <td>828</td>\n",
       "      <td>Shipped</td>\n",
       "      <td>Motorcycles</td>\n",
       "      <td>95</td>\n",
       "      <td>S10_1678</td>\n",
       "      <td>Land of Toys Inc.</td>\n",
       "      <td>2125557818</td>\n",
       "      <td>897 Long Airport Avenue</td>\n",
       "      <td>NYC</td>\n",
       "      <td>10022</td>\n",
       "      <td>USA</td>\n",
       "      <td>Yu</td>\n",
       "      <td>Kwai</td>\n",
       "      <td>Small</td>\n",
       "    </tr>\n",
       "    <tr>\n",
       "      <th>1</th>\n",
       "      <td>10121</td>\n",
       "      <td>34</td>\n",
       "      <td>81.35</td>\n",
       "      <td>5</td>\n",
       "      <td>2765.90</td>\n",
       "      <td>07/05/2018</td>\n",
       "      <td>757</td>\n",
       "      <td>Shipped</td>\n",
       "      <td>Motorcycles</td>\n",
       "      <td>95</td>\n",
       "      <td>S10_1678</td>\n",
       "      <td>Reims Collectables</td>\n",
       "      <td>26471555</td>\n",
       "      <td>59 rue de l'Abbaye</td>\n",
       "      <td>Reims</td>\n",
       "      <td>51100</td>\n",
       "      <td>France</td>\n",
       "      <td>Henriot</td>\n",
       "      <td>Paul</td>\n",
       "      <td>Small</td>\n",
       "    </tr>\n",
       "    <tr>\n",
       "      <th>2</th>\n",
       "      <td>10134</td>\n",
       "      <td>41</td>\n",
       "      <td>94.74</td>\n",
       "      <td>2</td>\n",
       "      <td>3884.34</td>\n",
       "      <td>01/07/2018</td>\n",
       "      <td>703</td>\n",
       "      <td>Shipped</td>\n",
       "      <td>Motorcycles</td>\n",
       "      <td>95</td>\n",
       "      <td>S10_1678</td>\n",
       "      <td>Lyon Souveniers</td>\n",
       "      <td>33146627555</td>\n",
       "      <td>27 rue du Colonel Pierre Avia</td>\n",
       "      <td>Paris</td>\n",
       "      <td>75508</td>\n",
       "      <td>France</td>\n",
       "      <td>Da Cunha</td>\n",
       "      <td>Daniel</td>\n",
       "      <td>Medium</td>\n",
       "    </tr>\n",
       "    <tr>\n",
       "      <th>3</th>\n",
       "      <td>10145</td>\n",
       "      <td>45</td>\n",
       "      <td>83.26</td>\n",
       "      <td>6</td>\n",
       "      <td>3746.70</td>\n",
       "      <td>25/08/2018</td>\n",
       "      <td>649</td>\n",
       "      <td>Shipped</td>\n",
       "      <td>Motorcycles</td>\n",
       "      <td>95</td>\n",
       "      <td>S10_1678</td>\n",
       "      <td>Toys4GrownUps.com</td>\n",
       "      <td>6265557265</td>\n",
       "      <td>78934 Hillside Dr.</td>\n",
       "      <td>Pasadena</td>\n",
       "      <td>90003</td>\n",
       "      <td>USA</td>\n",
       "      <td>Young</td>\n",
       "      <td>Julie</td>\n",
       "      <td>Medium</td>\n",
       "    </tr>\n",
       "    <tr>\n",
       "      <th>4</th>\n",
       "      <td>10168</td>\n",
       "      <td>36</td>\n",
       "      <td>96.66</td>\n",
       "      <td>1</td>\n",
       "      <td>3479.76</td>\n",
       "      <td>28/10/2018</td>\n",
       "      <td>586</td>\n",
       "      <td>Shipped</td>\n",
       "      <td>Motorcycles</td>\n",
       "      <td>95</td>\n",
       "      <td>S10_1678</td>\n",
       "      <td>Technics Stores Inc.</td>\n",
       "      <td>6505556809</td>\n",
       "      <td>9408 Furth Circle</td>\n",
       "      <td>Burlingame</td>\n",
       "      <td>94217</td>\n",
       "      <td>USA</td>\n",
       "      <td>Hirano</td>\n",
       "      <td>Juri</td>\n",
       "      <td>Medium</td>\n",
       "    </tr>\n",
       "  </tbody>\n",
       "</table>\n",
       "</div>"
      ],
      "text/plain": [
       "   order_number  quantity_ordered  price_each  order_line_number    sales  \\\n",
       "0         10107                30       95.70                  2  2871.00   \n",
       "1         10121                34       81.35                  5  2765.90   \n",
       "2         10134                41       94.74                  2  3884.34   \n",
       "3         10145                45       83.26                  6  3746.70   \n",
       "4         10168                36       96.66                  1  3479.76   \n",
       "\n",
       "   order_date  days_since_lastorder   status product_line  msrp product_code  \\\n",
       "0  24/02/2018                   828  Shipped  Motorcycles    95     S10_1678   \n",
       "1  07/05/2018                   757  Shipped  Motorcycles    95     S10_1678   \n",
       "2  01/07/2018                   703  Shipped  Motorcycles    95     S10_1678   \n",
       "3  25/08/2018                   649  Shipped  Motorcycles    95     S10_1678   \n",
       "4  28/10/2018                   586  Shipped  Motorcycles    95     S10_1678   \n",
       "\n",
       "          customer_name        phone                  address_line1  \\\n",
       "0     Land of Toys Inc.   2125557818        897 Long Airport Avenue   \n",
       "1    Reims Collectables     26471555             59 rue de l'Abbaye   \n",
       "2       Lyon Souveniers  33146627555  27 rue du Colonel Pierre Avia   \n",
       "3     Toys4GrownUps.com   6265557265             78934 Hillside Dr.   \n",
       "4  Technics Stores Inc.   6505556809              9408 Furth Circle   \n",
       "\n",
       "         city postal_code country contact_last_name contact_first_name  \\\n",
       "0         NYC       10022     USA                Yu               Kwai   \n",
       "1       Reims       51100  France           Henriot               Paul   \n",
       "2       Paris       75508  France          Da Cunha             Daniel   \n",
       "3    Pasadena       90003     USA             Young              Julie   \n",
       "4  Burlingame       94217     USA            Hirano               Juri   \n",
       "\n",
       "  deal_size  \n",
       "0     Small  \n",
       "1     Small  \n",
       "2    Medium  \n",
       "3    Medium  \n",
       "4    Medium  "
      ]
     },
     "execution_count": 88,
     "metadata": {},
     "output_type": "execute_result"
    }
   ],
   "source": [
    "df.head()"
   ]
  },
  {
   "cell_type": "code",
   "execution_count": 89,
   "id": "0c51517e-2f06-46f5-a112-d7d5a0df343e",
   "metadata": {},
   "outputs": [
    {
     "data": {
      "text/plain": [
       "<bound method Series.unique of 0        2125557818\n",
       "1          26471555\n",
       "2       33146627555\n",
       "3        6265557265\n",
       "4        6505556809\n",
       "           ...     \n",
       "2742      915559444\n",
       "2743      981443655\n",
       "2744      915559444\n",
       "2745       61776555\n",
       "2746     6175559555\n",
       "Name: phone, Length: 2747, dtype: object>"
      ]
     },
     "execution_count": 89,
     "metadata": {},
     "output_type": "execute_result"
    }
   ],
   "source": [
    "df['phone'].unique"
   ]
  },
  {
   "cell_type": "markdown",
   "id": "803b60c8-bcfd-4321-87d5-1b1891a43f9a",
   "metadata": {},
   "source": [
    "## sales column"
   ]
  },
  {
   "cell_type": "code",
   "execution_count": 90,
   "id": "38913be7-9be8-4d95-92d3-5a3ac4fcbc70",
   "metadata": {},
   "outputs": [
    {
     "data": {
      "text/plain": [
       "2690"
      ]
     },
     "execution_count": 90,
     "metadata": {},
     "output_type": "execute_result"
    }
   ],
   "source": [
    "df.sales.nunique()"
   ]
  },
  {
   "cell_type": "code",
   "execution_count": 91,
   "id": "369293c3-9129-4941-af40-b4f2b0eeba6b",
   "metadata": {},
   "outputs": [
    {
     "data": {
      "text/plain": [
       "dtype('float64')"
      ]
     },
     "execution_count": 91,
     "metadata": {},
     "output_type": "execute_result"
    }
   ],
   "source": [
    "df.sales.dtype"
   ]
  },
  {
   "cell_type": "markdown",
   "id": "92e02c40-d45c-41cf-834a-cd3fb94d2790",
   "metadata": {},
   "source": [
    "## order_date column"
   ]
  },
  {
   "cell_type": "code",
   "execution_count": 92,
   "id": "120450be-712f-4551-a590-c571a5be1108",
   "metadata": {},
   "outputs": [
    {
     "data": {
      "text/plain": [
       "246"
      ]
     },
     "execution_count": 92,
     "metadata": {},
     "output_type": "execute_result"
    }
   ],
   "source": [
    "df.order_date.nunique()"
   ]
  },
  {
   "cell_type": "code",
   "execution_count": 93,
   "id": "3004c91a-e387-47c0-8b6e-6fe087005314",
   "metadata": {},
   "outputs": [
    {
     "data": {
      "text/plain": [
       "dtype('O')"
      ]
     },
     "execution_count": 93,
     "metadata": {},
     "output_type": "execute_result"
    }
   ],
   "source": [
    "df.order_date.dtype"
   ]
  },
  {
   "cell_type": "code",
   "execution_count": 94,
   "id": "b823456d-97fc-4b55-946b-5c7c07d4bbce",
   "metadata": {},
   "outputs": [],
   "source": [
    "df['order_date']=pd.to_datetime(df['order_date'],dayfirst=True,errors='coerce')"
   ]
  },
  {
   "cell_type": "markdown",
   "id": "0b460390-b157-4264-8351-0603df605267",
   "metadata": {},
   "source": [
    "## days_since_lastorder column"
   ]
  },
  {
   "cell_type": "code",
   "execution_count": 95,
   "id": "050f88ad-bd44-443f-8618-7f39a76e5968",
   "metadata": {},
   "outputs": [
    {
     "data": {
      "text/plain": [
       "1832"
      ]
     },
     "execution_count": 95,
     "metadata": {},
     "output_type": "execute_result"
    }
   ],
   "source": [
    "df.days_since_lastorder.nunique()"
   ]
  },
  {
   "cell_type": "code",
   "execution_count": 96,
   "id": "f90e7b71-4b61-489c-b3c6-6965d3946998",
   "metadata": {},
   "outputs": [
    {
     "data": {
      "text/plain": [
       "dtype('int64')"
      ]
     },
     "execution_count": 96,
     "metadata": {},
     "output_type": "execute_result"
    }
   ],
   "source": [
    "df.days_since_lastorder.dtype"
   ]
  },
  {
   "cell_type": "markdown",
   "id": "4f2249c1-e70a-4c1d-ab35-9172a9d2cba9",
   "metadata": {},
   "source": [
    "## status column"
   ]
  },
  {
   "cell_type": "code",
   "execution_count": 97,
   "id": "8a999df5-c705-48ba-8389-ef2a37df6acf",
   "metadata": {},
   "outputs": [
    {
     "data": {
      "text/plain": [
       "6"
      ]
     },
     "execution_count": 97,
     "metadata": {},
     "output_type": "execute_result"
    }
   ],
   "source": [
    "df.status.nunique()"
   ]
  },
  {
   "cell_type": "code",
   "execution_count": 98,
   "id": "47a4f1e2-101e-4f70-8d07-fbabb8a9a787",
   "metadata": {},
   "outputs": [
    {
     "data": {
      "text/plain": [
       "array(['Shipped', 'Disputed', 'In Process', 'Cancelled', 'On Hold',\n",
       "       'Resolved'], dtype=object)"
      ]
     },
     "execution_count": 98,
     "metadata": {},
     "output_type": "execute_result"
    }
   ],
   "source": [
    "df.status.unique()"
   ]
  },
  {
   "cell_type": "code",
   "execution_count": 99,
   "id": "8b17d672-f111-4de6-9242-9b5727e9f42c",
   "metadata": {},
   "outputs": [],
   "source": [
    "df['status']=df['status'].str.strip()"
   ]
  },
  {
   "cell_type": "code",
   "execution_count": 100,
   "id": "a7544250-06f5-4a8f-bafd-95fb9b2aab2a",
   "metadata": {},
   "outputs": [
    {
     "data": {
      "text/plain": [
       "array(['Shipped', 'Disputed', 'In Process', 'Cancelled', 'On Hold',\n",
       "       'Resolved'], dtype=object)"
      ]
     },
     "execution_count": 100,
     "metadata": {},
     "output_type": "execute_result"
    }
   ],
   "source": [
    "df.status.unique()"
   ]
  },
  {
   "cell_type": "markdown",
   "id": "31f2fa41-a88c-41e1-a8b2-291bfd2c93c3",
   "metadata": {},
   "source": [
    "## product_line column"
   ]
  },
  {
   "cell_type": "code",
   "execution_count": 101,
   "id": "66bb63eb-3e37-42e2-85e6-7724a1a10112",
   "metadata": {},
   "outputs": [
    {
     "data": {
      "text/plain": [
       "7"
      ]
     },
     "execution_count": 101,
     "metadata": {},
     "output_type": "execute_result"
    }
   ],
   "source": [
    "df.product_line.nunique()"
   ]
  },
  {
   "cell_type": "code",
   "execution_count": 102,
   "id": "813e657e-31d1-4035-a1e6-840d998a7c98",
   "metadata": {},
   "outputs": [
    {
     "data": {
      "text/plain": [
       "array(['Motorcycles', 'Classic Cars', 'Trucks and Buses', 'Vintage Cars',\n",
       "       'Planes', 'Ships', 'Trains'], dtype=object)"
      ]
     },
     "execution_count": 102,
     "metadata": {},
     "output_type": "execute_result"
    }
   ],
   "source": [
    "df.product_line.unique()"
   ]
  },
  {
   "cell_type": "code",
   "execution_count": 103,
   "id": "fa4a79e6-ff70-4245-8927-c8b99e0705b3",
   "metadata": {},
   "outputs": [],
   "source": [
    "df['product_line']=df['product_line'].str.strip()"
   ]
  },
  {
   "cell_type": "markdown",
   "id": "1f5b8eba-5ed0-47b4-9040-58ea1efc9118",
   "metadata": {},
   "source": [
    "## msrp column"
   ]
  },
  {
   "cell_type": "code",
   "execution_count": 104,
   "id": "ca75ea6a-dbb2-4cbf-ab61-776e023cdd01",
   "metadata": {},
   "outputs": [
    {
     "data": {
      "text/plain": [
       "80"
      ]
     },
     "execution_count": 104,
     "metadata": {},
     "output_type": "execute_result"
    }
   ],
   "source": [
    "df.msrp.nunique()"
   ]
  },
  {
   "cell_type": "code",
   "execution_count": 105,
   "id": "2ce2a314-682d-4a16-a7c2-1d6811186181",
   "metadata": {},
   "outputs": [
    {
     "data": {
      "text/plain": [
       "array([ 95, 214, 118, 193, 136, 147, 194, 207, 150, 151, 117, 173,  79,\n",
       "       115, 116, 141, 102,  53, 124, 157, 170,  77, 142, 163,  60, 122,\n",
       "       127,  84, 168, 132, 101,  62,  86, 104, 169, 100,  80,  99, 146,\n",
       "       105, 143,  92,  87, 121,  50, 148,  71,  73,  57, 112, 109,  33,\n",
       "        76,  44,  69,  90,  35,  68,  37,  88,  85,  61,  65, 107,  83,\n",
       "       140,  41,  97,  72,  96,  40,  54,  64,  43,  58,  81,  66,  91,\n",
       "        74,  49])"
      ]
     },
     "execution_count": 105,
     "metadata": {},
     "output_type": "execute_result"
    }
   ],
   "source": [
    "df.msrp.unique()"
   ]
  },
  {
   "cell_type": "code",
   "execution_count": 106,
   "id": "342be876-fab8-4545-bb7b-6e295f10fb19",
   "metadata": {},
   "outputs": [],
   "source": [
    "## product_code column"
   ]
  },
  {
   "cell_type": "code",
   "execution_count": 107,
   "id": "b0d39ab0-4533-4d27-b819-418ee114d3fa",
   "metadata": {},
   "outputs": [
    {
     "data": {
      "text/plain": [
       "109"
      ]
     },
     "execution_count": 107,
     "metadata": {},
     "output_type": "execute_result"
    }
   ],
   "source": [
    "df.product_code.nunique()\n"
   ]
  },
  {
   "cell_type": "code",
   "execution_count": 108,
   "id": "d5d72f53-2e7c-4cf8-a494-20b94072f18c",
   "metadata": {},
   "outputs": [
    {
     "data": {
      "text/plain": [
       "array(['S10_1678', 'S10_1949', 'S10_2016', 'S10_4698', 'S10_4757',\n",
       "       'S10_4962', 'S12_1099', 'S12_1108', 'S12_1666', 'S12_2823',\n",
       "       'S12_3148', 'S12_3380', 'S12_3891', 'S12_3990', 'S12_4473',\n",
       "       'S12_4675', 'S18_1097', 'S18_1129', 'S18_1342', 'S18_1367',\n",
       "       'S18_1589', 'S18_1662', 'S18_1749', 'S18_1889', 'S18_1984',\n",
       "       'S18_2238', 'S18_2248', 'S18_2319', 'S18_2325', 'S18_2432',\n",
       "       'S18_2581', 'S18_2625', 'S18_2795', 'S18_2870', 'S18_2949',\n",
       "       'S18_2957', 'S18_3029', 'S18_3136', 'S18_3140', 'S18_3232',\n",
       "       'S18_3259', 'S18_3278', 'S18_3320', 'S18_3482', 'S18_3685',\n",
       "       'S18_3782', 'S18_3856', 'S18_4027', 'S18_4409', 'S18_4522',\n",
       "       'S18_4600', 'S18_4668', 'S18_4721', 'S18_4933', 'S24_1046',\n",
       "       'S24_1444', 'S24_1578', 'S24_1628', 'S24_1785', 'S24_1937',\n",
       "       'S24_2000', 'S24_2011', 'S24_2022', 'S24_2300', 'S24_2360',\n",
       "       'S24_2766', 'S24_2840', 'S24_2841', 'S24_2887', 'S24_2972',\n",
       "       'S24_3151', 'S24_3191', 'S24_3371', 'S24_3420', 'S24_3432',\n",
       "       'S24_3816', 'S24_3856', 'S24_3949', 'S24_3969', 'S24_4048',\n",
       "       'S24_4258', 'S24_4278', 'S24_4620', 'S32_1268', 'S32_1374',\n",
       "       'S32_2206', 'S32_2509', 'S32_3207', 'S32_3522', 'S32_4289',\n",
       "       'S32_4485', 'S50_1341', 'S50_1392', 'S50_1514', 'S50_4713',\n",
       "       'S700_1138', 'S700_1691', 'S700_1938', 'S700_2047', 'S700_2466',\n",
       "       'S700_2610', 'S700_2824', 'S700_2834', 'S700_3167', 'S700_3505',\n",
       "       'S700_3962', 'S700_4002', 'S72_1253', 'S72_3212'], dtype=object)"
      ]
     },
     "execution_count": 108,
     "metadata": {},
     "output_type": "execute_result"
    }
   ],
   "source": [
    "df.product_code.unique()"
   ]
  },
  {
   "cell_type": "code",
   "execution_count": 109,
   "id": "b8e7bd85-e652-4bdc-bfe3-af6c7b96e0aa",
   "metadata": {},
   "outputs": [],
   "source": [
    "df['product_code'] = df['product_code'].str.strip()"
   ]
  },
  {
   "cell_type": "markdown",
   "id": "e7d5b42f-6c24-42e8-b453-b6bf1bda9219",
   "metadata": {},
   "source": [
    "## customer_name column"
   ]
  },
  {
   "cell_type": "code",
   "execution_count": 110,
   "id": "25d35c3f-80b2-4f7f-9d83-6d33ca47f3a2",
   "metadata": {},
   "outputs": [
    {
     "data": {
      "text/plain": [
       "89"
      ]
     },
     "execution_count": 110,
     "metadata": {},
     "output_type": "execute_result"
    }
   ],
   "source": [
    "df.customer_name.nunique()"
   ]
  },
  {
   "cell_type": "code",
   "execution_count": 111,
   "id": "07ebb1fb-5e55-4be5-ba00-41a93f1e2ab9",
   "metadata": {},
   "outputs": [
    {
     "data": {
      "text/plain": [
       "array(['Land of Toys Inc.', 'Reims Collectables', 'Lyon Souveniers',\n",
       "       'Toys4GrownUps.com', 'Technics Stores Inc.',\n",
       "       'Daedalus Designs Imports', 'Herkku Gifts', 'Auto Canal Petit',\n",
       "       'Australian Collectors, Co.', 'Vitachrome Inc.',\n",
       "       'Tekni Collectables Inc.', 'Gift Depot Inc.', 'La Rochelle Gifts',\n",
       "       \"Marta's Replicas Co.\", 'Toys of Finland, Co.',\n",
       "       'Baane Mini Imports', 'Diecast Classics Inc.',\n",
       "       'Salzburg Collectables', 'Souveniers And Things Co.',\n",
       "       'FunGiftIdeas.com', 'UK Collectables, Ltd.',\n",
       "       'Euro Shopping Channel', 'Volvo Model Replicas, Co',\n",
       "       'Corrida Auto Replicas, Ltd', 'Dragon Souveniers, Ltd.',\n",
       "       'Classic Legends Inc.', 'Australian Gift Network, Co',\n",
       "       'Classic Gift Ideas, Inc', 'Saveley & Henriot, Co.',\n",
       "       'Canadian Gift Exchange Network', 'West Coast Collectables Co.',\n",
       "       'Cambridge Collectables Co.', 'Super Scale Inc.',\n",
       "       'Tokyo Collectables, Ltd', 'Amica Models & Co.',\n",
       "       'Scandinavian Gift Ideas', 'Auto Assoc. & Cie.',\n",
       "       'Mini Gifts Distributors Ltd.', 'Online Diecast Creations Co.',\n",
       "       'Collectables For Less Inc.', \"Anna's Decorations, Ltd\",\n",
       "       'Quebec Home Shopping Network', 'Osaka Souveniers Co.',\n",
       "       'Motor Mint Distributors Inc.', 'Atelier graphique',\n",
       "       'Mini Classics', 'Danish Wholesale Imports',\n",
       "       'Stylish Desk Decors, Co.', 'Mini Creations Ltd.', 'Alpha Cognac',\n",
       "       'Double Decker Gift Stores, Ltd', 'Enaco Distributors',\n",
       "       'Collectable Mini Designs Co.', 'Petit Auto',\n",
       "       'Royal Canadian Collectables, Ltd.', 'Gifts4AllAges.com',\n",
       "       'giftsbymail.co.uk', 'Oulu Toy Supplies, Inc.',\n",
       "       'The Sharp Gifts Warehouse', \"La Corne D'abondance, Co.\",\n",
       "       'Mini Auto Werke', 'Diecast Collectables', 'Handji Gifts& Co',\n",
       "       'Cruz & Sons Co.', 'Marseille Mini Autos',\n",
       "       'Toms Spezialitten, Ltd', 'Vida Sport, Ltd', \"L'ordine Souveniers\",\n",
       "       'Online Mini Collectables', 'Blauer See Auto, Co.',\n",
       "       'Suominen Souveniers', 'Muscle Machine Inc',\n",
       "       'Clover Collections, Co.', 'CAF Imports', 'AV Stores, Co.',\n",
       "       'Heintze Collectables', 'Microscale Inc.', 'Boards & Toys Co.',\n",
       "       'Iberia Gift Imports, Corp.', 'Signal Collectibles Ltd.',\n",
       "       'Mini Caravy', 'Signal Gift Stores', 'Norway Gifts By Mail, Co.',\n",
       "       'Rovelli Gifts', 'Australian Collectables, Ltd',\n",
       "       'Gift Ideas Corp.', 'Bavarian Collectables Imports, Co.',\n",
       "       'Royale Belge', 'Auto-Moto Classics Inc.'], dtype=object)"
      ]
     },
     "execution_count": 111,
     "metadata": {},
     "output_type": "execute_result"
    }
   ],
   "source": [
    "df.customer_name.unique()"
   ]
  },
  {
   "cell_type": "code",
   "execution_count": 112,
   "id": "3d7b1113-6500-4499-94b3-a6d1132d5067",
   "metadata": {},
   "outputs": [],
   "source": [
    "df['customer_name'] = df['customer_name'].str.strip()"
   ]
  },
  {
   "cell_type": "markdown",
   "id": "260e6dc4-2e74-4fbf-bf58-bb7b7073b6f6",
   "metadata": {},
   "source": [
    "## city column"
   ]
  },
  {
   "cell_type": "code",
   "execution_count": 113,
   "id": "6508e2a7-9ebd-4895-acb9-7e19620b5d2e",
   "metadata": {},
   "outputs": [
    {
     "data": {
      "text/plain": [
       "71"
      ]
     },
     "execution_count": 113,
     "metadata": {},
     "output_type": "execute_result"
    }
   ],
   "source": [
    "df.city.nunique()"
   ]
  },
  {
   "cell_type": "code",
   "execution_count": 114,
   "id": "739fd484-5f20-4444-95e4-0f314efcd6cb",
   "metadata": {},
   "outputs": [
    {
     "data": {
      "text/plain": [
       "array(['NYC', 'Reims', 'Paris', 'Pasadena', 'Burlingame', 'Lille',\n",
       "       'Bergen', 'Melbourne', 'Newark', 'Bridgewater', 'Nantes',\n",
       "       'Cambridge', 'Helsinki', 'Stavern', 'Allentown', 'Salzburg',\n",
       "       'Chatswood', 'New Bedford', 'Liverpool', 'Madrid', 'Lule',\n",
       "       'Singapore', 'South Brisbane', 'Philadelphia', 'Lyon', 'Vancouver',\n",
       "       'Burbank', 'New Haven', 'Minato-ku', 'Torino', 'Boras',\n",
       "       'Versailles', 'San Rafael', 'Nashua', 'Brickhaven', 'North Sydney',\n",
       "       'Montreal', 'Osaka', 'White Plains', 'Kobenhavn', 'London',\n",
       "       'Toulouse', 'Barcelona', 'San Diego', 'Bruxelles', 'Tsawassen',\n",
       "       'Boston', 'Cowes', 'Oulu', 'San Jose', 'Graz', 'Makati City',\n",
       "       'Marseille', 'Koln', 'Gensve', 'Reggio Emilia', 'Frankfurt',\n",
       "       'Espoo', 'Dublin', 'Manchester', 'Aaarhus', 'Glendale', 'Sevilla',\n",
       "       'Brisbane', 'Strasbourg', 'Las Vegas', 'Oslo', 'Bergamo',\n",
       "       'Glen Waverly', 'Munich', 'Charleroi'], dtype=object)"
      ]
     },
     "execution_count": 114,
     "metadata": {},
     "output_type": "execute_result"
    }
   ],
   "source": [
    "\n",
    "df.city.unique()"
   ]
  },
  {
   "cell_type": "code",
   "execution_count": 115,
   "id": "10bf4bcb-8d86-48b5-9b49-457cec6b6bc4",
   "metadata": {},
   "outputs": [],
   "source": [
    "df['city'] = df['city'].str.strip()"
   ]
  },
  {
   "cell_type": "markdown",
   "id": "d027e51a-9c0d-4612-b46d-5725e945d01b",
   "metadata": {},
   "source": [
    "## country column"
   ]
  },
  {
   "cell_type": "code",
   "execution_count": 116,
   "id": "83aefa3a-951b-4a96-8e9c-44486295502e",
   "metadata": {},
   "outputs": [
    {
     "data": {
      "text/plain": [
       "19"
      ]
     },
     "execution_count": 116,
     "metadata": {},
     "output_type": "execute_result"
    }
   ],
   "source": [
    "\n",
    "df.country.nunique()"
   ]
  },
  {
   "cell_type": "code",
   "execution_count": 117,
   "id": "dca1c102-adbb-4da4-aaae-d7ef4f902d58",
   "metadata": {},
   "outputs": [
    {
     "data": {
      "text/plain": [
       "array(['USA', 'France', 'Norway', 'Australia', 'Finland', 'Austria', 'UK',\n",
       "       'Spain', 'Sweden', 'Singapore', 'Canada', 'Japan', 'Italy',\n",
       "       'Denmark', 'Belgium', 'Philippines', 'Germany', 'Switzerland',\n",
       "       'Ireland'], dtype=object)"
      ]
     },
     "execution_count": 117,
     "metadata": {},
     "output_type": "execute_result"
    }
   ],
   "source": [
    "df.country.unique()"
   ]
  },
  {
   "cell_type": "code",
   "execution_count": 118,
   "id": "0038d949-3ff6-4ccc-aea8-65b524aa800c",
   "metadata": {},
   "outputs": [],
   "source": [
    "df['country'] = df['country'].str.strip()"
   ]
  },
  {
   "cell_type": "markdown",
   "id": "e445bd8d-e412-48ac-9904-8e479e0774e9",
   "metadata": {},
   "source": [
    "##  contact_last_name & contact_firstname\" Columns"
   ]
  },
  {
   "cell_type": "code",
   "execution_count": 119,
   "id": "0fa62526-0cf8-43d9-b610-852ce434f322",
   "metadata": {},
   "outputs": [
    {
     "data": {
      "text/plain": [
       "76"
      ]
     },
     "execution_count": 119,
     "metadata": {},
     "output_type": "execute_result"
    }
   ],
   "source": [
    "df.contact_last_name.nunique()"
   ]
  },
  {
   "cell_type": "code",
   "execution_count": 120,
   "id": "c4714695-5ffa-4e09-ac19-b92c5be8ae47",
   "metadata": {},
   "outputs": [
    {
     "data": {
      "text/plain": [
       "array(['Yu', 'Henriot', 'Da Cunha', 'Young', 'Hirano', 'Rance', 'Oeztan',\n",
       "       'Perrier', 'Ferguson', 'Frick', 'Brown', 'King', 'Labrune',\n",
       "       'Hernandez', 'Karttunen', 'Bergulfsen', 'Pipps', 'Huxley',\n",
       "       'Benitez', 'Devon', 'Freyre', 'Berglund', 'Sommer', 'Natividad',\n",
       "       'Calaghan', 'Cervantes', 'Saveley', 'Tannamuri', 'Thompson',\n",
       "       'Tseng', 'Murphy', 'Shimamura', 'Accorti', 'Larsson', 'Tonini',\n",
       "       'Nelson', \"O'Hara\", 'Fresnisre', 'Kentary', 'Schmitt', 'Petersen',\n",
       "       'Tam', 'Roulet', 'Hardy', 'Saavedra', 'Dewey', 'Lincoln',\n",
       "       'Yoshido', 'Bennett', 'Koskitalo', 'Bertrand', 'Mendel', 'Franco',\n",
       "       'Victorino', 'Cruz', 'Lebihan', 'Pfalzheim', 'Holz', 'Moroni',\n",
       "       'Barajas', 'Keitel', 'Suominen', 'Cassidy', 'Fernandez',\n",
       "       'Ashworth', 'Ibsen', 'Kuo', 'Roel', 'Taylor', 'Citeaux', 'Klaeboe',\n",
       "       'Rovelli', 'Connery', 'Lewis', 'Donnermeyer', 'Cartrain'],\n",
       "      dtype=object)"
      ]
     },
     "execution_count": 120,
     "metadata": {},
     "output_type": "execute_result"
    }
   ],
   "source": [
    "df.contact_last_name.unique()"
   ]
  },
  {
   "cell_type": "code",
   "execution_count": 121,
   "id": "e4961713-fbb8-4643-ae7d-dc5a4cff6b05",
   "metadata": {},
   "outputs": [],
   "source": [
    "df['contact_last_name'] = df['contact_last_name'].str.strip()"
   ]
  },
  {
   "cell_type": "code",
   "execution_count": 122,
   "id": "04e2bdb6-dfcd-417d-a519-5dc0e0b233f5",
   "metadata": {},
   "outputs": [
    {
     "data": {
      "text/plain": [
       "72"
      ]
     },
     "execution_count": 122,
     "metadata": {},
     "output_type": "execute_result"
    }
   ],
   "source": [
    "df.contact_first_name.nunique()\n"
   ]
  },
  {
   "cell_type": "code",
   "execution_count": 123,
   "id": "57b6597d-f165-4dbc-8cde-48a9a76946f3",
   "metadata": {},
   "outputs": [
    {
     "data": {
      "text/plain": [
       "array(['Kwai', 'Paul', 'Daniel', 'Julie', 'Juri', 'Martine', 'Veysel',\n",
       "       'Dominique', 'Peter', 'Michael', 'William', 'Janine', 'Marta',\n",
       "       'Matti', 'Jonas', 'Kyung', 'Georg', 'Adrian', 'Violeta',\n",
       "       'Elizabeth', 'Diego', 'Christina', 'Mart¡n', 'Eric', 'Maria',\n",
       "       'Tony', 'Francisca', 'Mary', 'Yoshi', 'Steve', 'Leslie', 'Akiko',\n",
       "       'Paolo', 'Valarie', 'Allen', 'Anna', 'Jean', 'Mory', 'Rosa',\n",
       "       'Carine', 'Jytte', 'Ann', 'Wing C', 'Annette', 'Thomas', 'Eduardo',\n",
       "       'Catherine', 'Helen', 'Pirkko', 'Sue', 'Marie', 'Roland', 'Wendy',\n",
       "       'Arnold', 'Laurence', 'Henriette', 'Maurizio', 'Miguel', 'Kalle',\n",
       "       'Jeff', 'Dean', 'Jesus', 'Victoria', 'Palle', 'Kee', 'Jose Pedro',\n",
       "       'Frederique', 'Jan', 'Giovanni', 'Sean', 'Dan', 'Pascale'],\n",
       "      dtype=object)"
      ]
     },
     "execution_count": 123,
     "metadata": {},
     "output_type": "execute_result"
    }
   ],
   "source": [
    "df.contact_first_name.unique()\n"
   ]
  },
  {
   "cell_type": "code",
   "execution_count": 124,
   "id": "074125d3-4608-4fbf-bb36-753c0fadace7",
   "metadata": {},
   "outputs": [],
   "source": [
    "df['contact_first_name'] = df['contact_first_name'].str.strip()"
   ]
  },
  {
   "cell_type": "code",
   "execution_count": 125,
   "id": "06839fc6-a00c-47b8-bcfe-196755509d59",
   "metadata": {},
   "outputs": [],
   "source": [
    "\n",
    "df['contact_fullname'] = df['contact_first_name'] + ' ' + df['contact_last_name']"
   ]
  },
  {
   "cell_type": "code",
   "execution_count": 126,
   "id": "aed901db-5b8e-4f24-9f9b-c12a7d21483c",
   "metadata": {},
   "outputs": [],
   "source": [
    "df = df.drop(columns=['contact_first_name', 'contact_last_name'])"
   ]
  },
  {
   "cell_type": "markdown",
   "id": "d822bf2f-600a-4926-b1a8-980a0aa4e32a",
   "metadata": {},
   "source": [
    "## deal_size column"
   ]
  },
  {
   "cell_type": "code",
   "execution_count": 127,
   "id": "3dd3eaa0-0cc1-4e6d-92a5-9a332c38090e",
   "metadata": {},
   "outputs": [
    {
     "data": {
      "text/plain": [
       "3"
      ]
     },
     "execution_count": 127,
     "metadata": {},
     "output_type": "execute_result"
    }
   ],
   "source": [
    "df.deal_size.nunique()"
   ]
  },
  {
   "cell_type": "code",
   "execution_count": 128,
   "id": "2119121f-1a08-472c-aeed-7737210a22de",
   "metadata": {},
   "outputs": [
    {
     "data": {
      "text/plain": [
       "array(['Small', 'Medium', 'Large'], dtype=object)"
      ]
     },
     "execution_count": 128,
     "metadata": {},
     "output_type": "execute_result"
    }
   ],
   "source": [
    "df.deal_size.unique()"
   ]
  },
  {
   "cell_type": "code",
   "execution_count": 129,
   "id": "60444a55-f3b0-4485-b6e0-d73b343c5089",
   "metadata": {},
   "outputs": [],
   "source": [
    "df['deal_size'] = df['deal_size'].str.strip()"
   ]
  },
  {
   "cell_type": "markdown",
   "id": "cc496f44-1ef6-46fa-8467-0c633f1ba2b1",
   "metadata": {},
   "source": [
    "#### Drop Unnecessary columns"
   ]
  },
  {
   "cell_type": "code",
   "execution_count": 130,
   "id": "ec38d737-d27b-4464-90bf-85e21a1e98da",
   "metadata": {},
   "outputs": [],
   "source": [
    "df = df.drop(columns=['phone', 'address_line1', 'postal_code'])"
   ]
  },
  {
   "cell_type": "code",
   "execution_count": 131,
   "id": "47eb1e2b-9264-4704-9975-f3a6d76ea929",
   "metadata": {},
   "outputs": [
    {
     "data": {
      "text/plain": [
       "Index(['order_number', 'quantity_ordered', 'price_each', 'order_line_number',\n",
       "       'sales', 'order_date', 'days_since_lastorder', 'status', 'product_line',\n",
       "       'msrp', 'product_code', 'customer_name', 'city', 'country', 'deal_size',\n",
       "       'contact_fullname'],\n",
       "      dtype='object')"
      ]
     },
     "execution_count": 131,
     "metadata": {},
     "output_type": "execute_result"
    }
   ],
   "source": [
    "df.columns"
   ]
  },
  {
   "cell_type": "code",
   "execution_count": 132,
   "id": "896090d3-4304-4f87-8dca-dc98f4494c67",
   "metadata": {},
   "outputs": [
    {
     "data": {
      "text/html": [
       "<div>\n",
       "<style scoped>\n",
       "    .dataframe tbody tr th:only-of-type {\n",
       "        vertical-align: middle;\n",
       "    }\n",
       "\n",
       "    .dataframe tbody tr th {\n",
       "        vertical-align: top;\n",
       "    }\n",
       "\n",
       "    .dataframe thead th {\n",
       "        text-align: right;\n",
       "    }\n",
       "</style>\n",
       "<table border=\"1\" class=\"dataframe\">\n",
       "  <thead>\n",
       "    <tr style=\"text-align: right;\">\n",
       "      <th></th>\n",
       "      <th>order_number</th>\n",
       "      <th>quantity_ordered</th>\n",
       "      <th>price_each</th>\n",
       "      <th>order_line_number</th>\n",
       "      <th>sales</th>\n",
       "      <th>order_date</th>\n",
       "      <th>days_since_lastorder</th>\n",
       "      <th>status</th>\n",
       "      <th>product_line</th>\n",
       "      <th>msrp</th>\n",
       "      <th>product_code</th>\n",
       "      <th>customer_name</th>\n",
       "      <th>city</th>\n",
       "      <th>country</th>\n",
       "      <th>deal_size</th>\n",
       "      <th>contact_fullname</th>\n",
       "    </tr>\n",
       "  </thead>\n",
       "  <tbody>\n",
       "    <tr>\n",
       "      <th>0</th>\n",
       "      <td>10107</td>\n",
       "      <td>30</td>\n",
       "      <td>95.70</td>\n",
       "      <td>2</td>\n",
       "      <td>2871.00</td>\n",
       "      <td>2018-02-24</td>\n",
       "      <td>828</td>\n",
       "      <td>Shipped</td>\n",
       "      <td>Motorcycles</td>\n",
       "      <td>95</td>\n",
       "      <td>S10_1678</td>\n",
       "      <td>Land of Toys Inc.</td>\n",
       "      <td>NYC</td>\n",
       "      <td>USA</td>\n",
       "      <td>Small</td>\n",
       "      <td>Kwai Yu</td>\n",
       "    </tr>\n",
       "    <tr>\n",
       "      <th>1</th>\n",
       "      <td>10121</td>\n",
       "      <td>34</td>\n",
       "      <td>81.35</td>\n",
       "      <td>5</td>\n",
       "      <td>2765.90</td>\n",
       "      <td>2018-05-07</td>\n",
       "      <td>757</td>\n",
       "      <td>Shipped</td>\n",
       "      <td>Motorcycles</td>\n",
       "      <td>95</td>\n",
       "      <td>S10_1678</td>\n",
       "      <td>Reims Collectables</td>\n",
       "      <td>Reims</td>\n",
       "      <td>France</td>\n",
       "      <td>Small</td>\n",
       "      <td>Paul Henriot</td>\n",
       "    </tr>\n",
       "    <tr>\n",
       "      <th>2</th>\n",
       "      <td>10134</td>\n",
       "      <td>41</td>\n",
       "      <td>94.74</td>\n",
       "      <td>2</td>\n",
       "      <td>3884.34</td>\n",
       "      <td>2018-07-01</td>\n",
       "      <td>703</td>\n",
       "      <td>Shipped</td>\n",
       "      <td>Motorcycles</td>\n",
       "      <td>95</td>\n",
       "      <td>S10_1678</td>\n",
       "      <td>Lyon Souveniers</td>\n",
       "      <td>Paris</td>\n",
       "      <td>France</td>\n",
       "      <td>Medium</td>\n",
       "      <td>Daniel Da Cunha</td>\n",
       "    </tr>\n",
       "    <tr>\n",
       "      <th>3</th>\n",
       "      <td>10145</td>\n",
       "      <td>45</td>\n",
       "      <td>83.26</td>\n",
       "      <td>6</td>\n",
       "      <td>3746.70</td>\n",
       "      <td>2018-08-25</td>\n",
       "      <td>649</td>\n",
       "      <td>Shipped</td>\n",
       "      <td>Motorcycles</td>\n",
       "      <td>95</td>\n",
       "      <td>S10_1678</td>\n",
       "      <td>Toys4GrownUps.com</td>\n",
       "      <td>Pasadena</td>\n",
       "      <td>USA</td>\n",
       "      <td>Medium</td>\n",
       "      <td>Julie Young</td>\n",
       "    </tr>\n",
       "    <tr>\n",
       "      <th>4</th>\n",
       "      <td>10168</td>\n",
       "      <td>36</td>\n",
       "      <td>96.66</td>\n",
       "      <td>1</td>\n",
       "      <td>3479.76</td>\n",
       "      <td>2018-10-28</td>\n",
       "      <td>586</td>\n",
       "      <td>Shipped</td>\n",
       "      <td>Motorcycles</td>\n",
       "      <td>95</td>\n",
       "      <td>S10_1678</td>\n",
       "      <td>Technics Stores Inc.</td>\n",
       "      <td>Burlingame</td>\n",
       "      <td>USA</td>\n",
       "      <td>Medium</td>\n",
       "      <td>Juri Hirano</td>\n",
       "    </tr>\n",
       "  </tbody>\n",
       "</table>\n",
       "</div>"
      ],
      "text/plain": [
       "   order_number  quantity_ordered  price_each  order_line_number    sales  \\\n",
       "0         10107                30       95.70                  2  2871.00   \n",
       "1         10121                34       81.35                  5  2765.90   \n",
       "2         10134                41       94.74                  2  3884.34   \n",
       "3         10145                45       83.26                  6  3746.70   \n",
       "4         10168                36       96.66                  1  3479.76   \n",
       "\n",
       "  order_date  days_since_lastorder   status product_line  msrp product_code  \\\n",
       "0 2018-02-24                   828  Shipped  Motorcycles    95     S10_1678   \n",
       "1 2018-05-07                   757  Shipped  Motorcycles    95     S10_1678   \n",
       "2 2018-07-01                   703  Shipped  Motorcycles    95     S10_1678   \n",
       "3 2018-08-25                   649  Shipped  Motorcycles    95     S10_1678   \n",
       "4 2018-10-28                   586  Shipped  Motorcycles    95     S10_1678   \n",
       "\n",
       "          customer_name        city country deal_size contact_fullname  \n",
       "0     Land of Toys Inc.         NYC     USA     Small          Kwai Yu  \n",
       "1    Reims Collectables       Reims  France     Small     Paul Henriot  \n",
       "2       Lyon Souveniers       Paris  France    Medium  Daniel Da Cunha  \n",
       "3     Toys4GrownUps.com    Pasadena     USA    Medium      Julie Young  \n",
       "4  Technics Stores Inc.  Burlingame     USA    Medium      Juri Hirano  "
      ]
     },
     "execution_count": 132,
     "metadata": {},
     "output_type": "execute_result"
    }
   ],
   "source": [
    "df.head(5)"
   ]
  },
  {
   "cell_type": "markdown",
   "id": "c2676f58-ebf9-4c80-9e63-39be22a16018",
   "metadata": {},
   "source": [
    "### NaN Values"
   ]
  },
  {
   "cell_type": "code",
   "execution_count": 133,
   "id": "809d1475-704e-478f-b5cc-0a75406bdd11",
   "metadata": {},
   "outputs": [
    {
     "data": {
      "text/plain": [
       "order_number            0\n",
       "quantity_ordered        0\n",
       "price_each              0\n",
       "order_line_number       0\n",
       "sales                   0\n",
       "order_date              0\n",
       "days_since_lastorder    0\n",
       "status                  0\n",
       "product_line            0\n",
       "msrp                    0\n",
       "product_code            0\n",
       "customer_name           0\n",
       "city                    0\n",
       "country                 0\n",
       "deal_size               0\n",
       "contact_fullname        0\n",
       "dtype: int64"
      ]
     },
     "execution_count": 133,
     "metadata": {},
     "output_type": "execute_result"
    }
   ],
   "source": [
    "df.isnull().sum()"
   ]
  },
  {
   "cell_type": "code",
   "execution_count": 134,
   "id": "c374082a-b350-40cd-952f-3e2595d9bed8",
   "metadata": {},
   "outputs": [],
   "source": [
    "df.to_csv(\"Cleaned(Auto Sales).csv\")"
   ]
  },
  {
   "cell_type": "code",
   "execution_count": 135,
   "id": "c0f605de-e824-4516-a9c7-78475a09f574",
   "metadata": {},
   "outputs": [
    {
     "name": "stdout",
     "output_type": "stream",
     "text": [
      "We have 8 numerical Features: ['order_number', 'quantity_ordered', 'price_each', 'order_line_number', 'sales', 'order_date', 'days_since_lastorder', 'msrp']\n",
      "We have 8 categorical Features: ['status', 'product_line', 'product_code', 'customer_name', 'city', 'country', 'deal_size', 'contact_fullname']\n"
     ]
    }
   ],
   "source": [
    "numeric_features=[feature for feature in df.columns if df[feature].dtype!='O']\n",
    "categorical_features=[feature for feature in df.columns if df[feature].dtype=='O']\n",
    "\n",
    "# Print Columns\n",
    "print('We have {} numerical Features: {}'.format(len(numeric_features),numeric_features))\n",
    "print('We have {} categorical Features: {}'.format(len(categorical_features),categorical_features))"
   ]
  },
  {
   "cell_type": "code",
   "execution_count": 136,
   "id": "300f46bd-fc31-4322-aaa2-cc8eb54a6e9a",
   "metadata": {},
   "outputs": [
    {
     "name": "stdout",
     "output_type": "stream",
     "text": [
      "status\n",
      "Shipped       92.500910\n",
      "Cancelled      2.184201\n",
      "Resolved       1.710957\n",
      "On Hold        1.601747\n",
      "In Process     1.492537\n",
      "Disputed       0.509647\n",
      "Name: proportion, dtype: float64\n",
      "--------------------\n",
      "product_line\n",
      "Classic Cars        34.546778\n",
      "Vintage Cars        21.077539\n",
      "Motorcycles         11.394248\n",
      "Planes              11.066618\n",
      "Trucks and Buses    10.738988\n",
      "Ships                8.372770\n",
      "Trains               2.803058\n",
      "Name: proportion, dtype: float64\n",
      "--------------------\n",
      "product_code\n",
      "S18_3232    1.856571\n",
      "S50_1392    1.019294\n",
      "S32_2509    1.019294\n",
      "S24_2840    1.019294\n",
      "S24_1444    1.019294\n",
      "              ...   \n",
      "S24_2887    0.800874\n",
      "S18_1749    0.764470\n",
      "S18_2248    0.764470\n",
      "S18_4409    0.764470\n",
      "S24_3969    0.764470\n",
      "Name: proportion, Length: 109, dtype: float64\n",
      "--------------------\n",
      "customer_name\n",
      "Euro Shopping Channel           9.428467\n",
      "Mini Gifts Distributors Ltd.    6.552603\n",
      "Australian Collectors, Co.      2.002184\n",
      "La Rochelle Gifts               1.929378\n",
      "AV Stores, Co.                  1.856571\n",
      "                                  ...   \n",
      "Microscale Inc.                 0.364033\n",
      "Auto-Moto Classics Inc.         0.291227\n",
      "Royale Belge                    0.291227\n",
      "Atelier graphique               0.254823\n",
      "Boards & Toys Co.               0.109210\n",
      "Name: proportion, Length: 89, dtype: float64\n",
      "--------------------\n",
      "city\n",
      "Madrid        11.066618\n",
      "San Rafael     6.552603\n",
      "NYC            5.533309\n",
      "Singapore      2.875865\n",
      "Paris          2.548234\n",
      "                ...    \n",
      "Graz           0.546050\n",
      "Brisbane       0.546050\n",
      "Munich         0.509647\n",
      "Burbank        0.473244\n",
      "Charleroi      0.291227\n",
      "Name: proportion, Length: 71, dtype: float64\n",
      "--------------------\n",
      "country\n",
      "USA            33.782308\n",
      "Spain          12.449945\n",
      "France         11.430652\n",
      "Australia       6.734620\n",
      "UK              5.242082\n",
      "Italy           4.113578\n",
      "Finland         3.349108\n",
      "Norway          3.094285\n",
      "Singapore       2.875865\n",
      "Canada          2.548234\n",
      "Denmark         2.293411\n",
      "Germany         2.257008\n",
      "Sweden          2.074991\n",
      "Austria         2.002184\n",
      "Japan           1.892974\n",
      "Belgium         1.201311\n",
      "Switzerland     1.128504\n",
      "Philippines     0.946487\n",
      "Ireland         0.582454\n",
      "Name: proportion, dtype: float64\n",
      "--------------------\n",
      "deal_size\n",
      "Medium    49.108118\n",
      "Small     45.358573\n",
      "Large      5.533309\n",
      "Name: proportion, dtype: float64\n",
      "--------------------\n",
      "contact_fullname\n",
      "Diego Freyre         9.428467\n",
      "Valarie Nelson       6.552603\n",
      "Peter Ferguson       2.002184\n",
      "Janine Labrune       1.929378\n",
      "Victoria Ashworth    1.856571\n",
      "                       ...   \n",
      "Kee Kuo              0.364033\n",
      "Leslie Taylor        0.291227\n",
      "Pascale Cartrain     0.291227\n",
      "Carine Schmitt       0.254823\n",
      "Leslie Young         0.109210\n",
      "Name: proportion, Length: 89, dtype: float64\n",
      "--------------------\n"
     ]
    }
   ],
   "source": [
    "## propotion of count data on categorical columns\n",
    "\n",
    "for col in categorical_features:\n",
    "    print(df[col].value_counts(normalize = True)*100)\n",
    "    print('--------------------')"
   ]
  },
  {
   "cell_type": "markdown",
   "id": "bd2449f1-c7bb-4d87-ab03-12fc7039af31",
   "metadata": {},
   "source": [
    "# Data Visualization"
   ]
  },
  {
   "cell_type": "markdown",
   "id": "b1bb0311-349e-43cc-81b1-c1cbaeaa023f",
   "metadata": {},
   "source": [
    "## Proportion of count data on numerical columns "
   ]
  },
  {
   "cell_type": "code",
   "execution_count": 137,
   "id": "27c9c056-11bf-4fbb-ab98-495f51bb6529",
   "metadata": {},
   "outputs": [
    {
     "data": {
      "image/png": "[encoded data removed]",
      "text/plain": [
       "<Figure size 1500x1500 with 8 Axes>"
      ]
     },
     "metadata": {},
     "output_type": "display_data"
    }
   ],
   "source": [
    "\n",
    "plt.figure(figsize=(15,15))\n",
    "plt.suptitle('Univariate Analysis of Numerical Features',fontsize=20,fontweight='bold',alpha=0.8,y=1)\n",
    "\n",
    "for i in range(0,len(numeric_features)):\n",
    "    plt.subplot(5,3,i+1)\n",
    "    sns.kdeplot(x=df[numeric_features[i]],shade=True,color='g')  # Kde- Kernal density estimator \n",
    "    plt.xlabel(numeric_features[i])\n",
    "    plt.tight_layout()"
   ]
  },
  {
   "cell_type": "markdown",
   "id": "5a690b3a-1d6e-4719-8c55-4eb99f7bfb18",
   "metadata": {},
   "source": [
    "##  Distribution of Status\n"
   ]
  },
  {
   "cell_type": "code",
   "execution_count": 138,
   "id": "d88cd1f2-9670-4b09-a461-9d18ba738c73",
   "metadata": {},
   "outputs": [
    {
     "data": {
      "text/plain": [
       "status\n",
       "Shipped       92.50\n",
       "Cancelled      2.18\n",
       "Resolved       1.71\n",
       "On Hold        1.60\n",
       "In Process     1.49\n",
       "Disputed       0.51\n",
       "Name: count, dtype: float64"
      ]
     },
     "execution_count": 138,
     "metadata": {},
     "output_type": "execute_result"
    }
   ],
   "source": [
    "status_rate=df['status'].value_counts() / len (df) * 100\n",
    "status_rate= round(status_rate,2)\n",
    "status_rate"
   ]
  },
  {
   "cell_type": "code",
   "execution_count": 139,
   "id": "3bb9c705-8873-4628-8e85-30a72670bc3e",
   "metadata": {},
   "outputs": [
    {
     "data": {
      "image/png": "[encoded data removed]",
      "text/plain": [
       "<Figure size 800x500 with 1 Axes>"
      ]
     },
     "metadata": {},
     "output_type": "display_data"
    }
   ],
   "source": [
    "\n",
    "\n",
    "plt.figure(figsize=(8,5))\n",
    "sns.barplot(y=status_rate,x=status_rate.index,palette='hls')\n",
    "\n",
    "# Adding Title\n",
    "plt.title('Order Status Distribution')\n",
    "\n",
    "# Showing the graph\n",
    "\n",
    "plt.show()"
   ]
  },
  {
   "cell_type": "markdown",
   "id": "ab9ba3d9-b11a-477e-859b-d1817ffd65da",
   "metadata": {},
   "source": [
    "## Total Sales by Quantity Ordered"
   ]
  },
  {
   "cell_type": "code",
   "execution_count": 140,
   "id": "50761dc2-4e27-42ad-b58d-e74fa0543b96",
   "metadata": {},
   "outputs": [
    {
     "data": {
      "image/png": "[encoded data removed]",
      "text/plain": [
       "<Figure size 640x480 with 1 Axes>"
      ]
     },
     "metadata": {},
     "output_type": "display_data"
    }
   ],
   "source": [
    "plt.scatter(df['quantity_ordered'], df['sales'])\n",
    "\n",
    "# Adding title and label names\n",
    "plt.title('Total Sales by Quantity Ordered')\n",
    "plt.xlabel('Quantity Ordered')\n",
    "plt.ylabel('Total Price')\n",
    "\n",
    "# Showing the graph\n",
    "plt.show()"
   ]
  },
  {
   "cell_type": "markdown",
   "id": "c8445892-5d95-4ce2-933b-d4e7aac5a832",
   "metadata": {},
   "source": [
    "##  Order Distribution by Country "
   ]
  },
  {
   "cell_type": "code",
   "execution_count": 141,
   "id": "7ae76e32-a3dd-41f3-9357-a9c7c3f5e4f6",
   "metadata": {},
   "outputs": [
    {
     "data": {
      "image/png": "[encoded data removed]",
      "text/plain": [
       "<Figure size 1000x500 with 1 Axes>"
      ]
     },
     "metadata": {},
     "output_type": "display_data"
    }
   ],
   "source": [
    "## Creating count plot\n",
    "fig, ax = plt.subplots(figsize = (10, 5))\n",
    "sns.countplot(data = df, y = \"country\", palette = \"Set2\")\n",
    "\n",
    "# Adding title and label names\n",
    "plt.title('Order Distribution by Country')\n",
    "plt.xlabel('Number of Orders')\n",
    "plt.ylabel('Country')\n",
    "\n",
    "# Showing the graph\n",
    "plt.show()"
   ]
  },
  {
   "cell_type": "markdown",
   "id": "fcf6c47e-98ac-493e-a325-8bc7b183f720",
   "metadata": {},
   "source": [
    "## Total Sales by Top 10 City "
   ]
  },
  {
   "cell_type": "code",
   "execution_count": 142,
   "id": "79d1ce68-f519-4639-8619-35655b7a5dbc",
   "metadata": {},
   "outputs": [],
   "source": [
    "city_sales = df.groupby('city')['sales'].sum()\n",
    "top10_city_sales = city_sales.sort_values(ascending= False)[:10]"
   ]
  },
  {
   "cell_type": "code",
   "execution_count": 143,
   "id": "5d4cf6ef-a916-471e-9b2b-e1f7cea0f6aa",
   "metadata": {},
   "outputs": [
    {
     "data": {
      "image/png": "[encoded data removed]",
      "text/plain": [
       "<Figure size 1000x600 with 1 Axes>"
      ]
     },
     "metadata": {},
     "output_type": "display_data"
    }
   ],
   "source": [
    "colors = plt.get_cmap('viridis', len(top10_city_sales))\n",
    "\n",
    "# Creating bar plot\n",
    "top10_city_sales.plot(kind='bar', figsize=(10,6), color=colors(range(len(top10_city_sales))))\n",
    "\n",
    "# Adding title and label names\n",
    "plt.title('Total Sales by City')\n",
    "plt.xlabel('City')\n",
    "plt.ylabel('Total Sales')\n",
    "plt.xticks(rotation= 45)\n",
    "\n",
    "# Showing the graph\n",
    "plt.show()"
   ]
  },
  {
   "cell_type": "markdown",
   "id": "956e575a-8d32-43e0-b31e-cc44c66a6432",
   "metadata": {},
   "source": [
    "## Sales by Product Line"
   ]
  },
  {
   "cell_type": "code",
   "execution_count": 144,
   "id": "190fd14b-41e2-4444-b4a0-185146b5ef16",
   "metadata": {},
   "outputs": [
    {
     "data": {
      "text/plain": [
       "product_line\n",
       "Classic Cars        3842868.54\n",
       "Motorcycles         1103512.19\n",
       "Planes               969323.42\n",
       "Ships                700039.22\n",
       "Trains               226243.47\n",
       "Trucks and Buses    1111559.19\n",
       "Vintage Cars        1806675.68\n",
       "Name: sales, dtype: float64"
      ]
     },
     "execution_count": 144,
     "metadata": {},
     "output_type": "execute_result"
    }
   ],
   "source": [
    "product_line_sales = df.groupby('product_line')['sales'].sum()\n",
    "product_line_sales"
   ]
  },
  {
   "cell_type": "code",
   "execution_count": 145,
   "id": "5041edd1-8437-48c5-8327-526c52ea8b29",
   "metadata": {},
   "outputs": [
    {
     "data": {
      "image/png": "[encoded data removed]",
      "text/plain": [
       "<Figure size 600x600 with 1 Axes>"
      ]
     },
     "metadata": {},
     "output_type": "display_data"
    }
   ],
   "source": [
    "# Creating pie chart\n",
    "plt.figure(figsize=(6, 6))\n",
    "\n",
    "plt.pie(product_line_sales,labels=product_line_sales.index,autopct='%1.2f%%',startangle=90)\n",
    "\n",
    "# Adding title\n",
    "plt.title('Sales by Product Line', fontdict= {'fontsize': 14, 'color': 'firebrick'})\n",
    "\n",
    "# Showing the graph\n",
    "plt.show()"
   ]
  },
  {
   "cell_type": "markdown",
   "id": "0eb76390-98c6-40a5-92fd-b4150ac1a9db",
   "metadata": {},
   "source": [
    "## Top 10 Sold Products"
   ]
  },
  {
   "cell_type": "code",
   "execution_count": 146,
   "id": "e81f11e2-530b-41b2-ba01-e3408412f70c",
   "metadata": {},
   "outputs": [
    {
     "data": {
      "text/plain": [
       "product_code\n",
       "S18_3232     1754\n",
       "S18_4600     1031\n",
       "S700_4002    1029\n",
       "S12_4473     1024\n",
       "S24_3856     1017\n",
       "S24_3949     1008\n",
       "S50_1341      999\n",
       "S24_2300      996\n",
       "S18_2319      993\n",
       "S700_2610     990\n",
       "Name: quantity_ordered, dtype: int64"
      ]
     },
     "execution_count": 146,
     "metadata": {},
     "output_type": "execute_result"
    }
   ],
   "source": [
    "top_selling_products = df.groupby('product_code')['quantity_ordered'].sum().nlargest(10)\n",
    "top_selling_products"
   ]
  },
  {
   "cell_type": "code",
   "execution_count": 147,
   "id": "a1683d12-af2a-4859-9421-5229698b66cb",
   "metadata": {},
   "outputs": [
    {
     "data": {
      "image/png": "[encoded data removed]",
      "text/plain": [
       "<Figure size 800x500 with 1 Axes>"
      ]
     },
     "metadata": {},
     "output_type": "display_data"
    }
   ],
   "source": [
    "colors = plt.get_cmap('plasma', len(top_selling_products))\n",
    "\n",
    "# Creating bar plot\n",
    "top_selling_products.plot(kind='bar', figsize=(8,5), color=colors(range(len(top_selling_products))))\n",
    "\n",
    "# Adding title and label names\n",
    "plt.title('Top 10 Sold Products')\n",
    "plt.xlabel('Product Code')\n",
    "plt.ylabel('Quantity Ordered')\n",
    "plt.xticks(rotation= 45)\n",
    "\n",
    "# Showing the graph\n",
    "plt.show()"
   ]
  },
  {
   "cell_type": "markdown",
   "id": "2370aa17-a1ed-4719-8cda-fc5e2bc9c4f3",
   "metadata": {},
   "source": [
    "## Days since Last Order Distribution"
   ]
  },
  {
   "cell_type": "code",
   "execution_count": 148,
   "id": "ba370cb8-8fbb-41db-b01d-ef25ed70aec2",
   "metadata": {},
   "outputs": [
    {
     "data": {
      "image/png": "[encoded data removed]",
      "text/plain": [
       "<Figure size 640x480 with 1 Axes>"
      ]
     },
     "metadata": {},
     "output_type": "display_data"
    }
   ],
   "source": [
    "# Creating histogram graph\n",
    "plt.hist(df['days_since_lastorder'], bins=30, edgecolor='black')\n",
    "\n",
    "# Adding title and label names\n",
    "plt.title('Days Since Last Order Distribution')\n",
    "plt.xlabel('Days')\n",
    "plt.ylabel('Frequency')\n",
    "\n",
    "# Showing the graph\n",
    "plt.show()"
   ]
  },
  {
   "cell_type": "code",
   "execution_count": null,
   "id": "cb18acf6-c8f2-469f-8a51-fe0cffe08e76",
   "metadata": {},
   "outputs": [],
   "source": []
  }
 ],
 "metadata": {
  "kernelspec": {
   "display_name": "Python 3 (ipykernel)",
   "language": "python",
   "name": "python3"
  },
  "language_info": {
   "codemirror_mode": {
    "name": "ipython",
    "version": 3
   },
   "file_extension": ".py",
   "mimetype": "text/x-python",
   "name": "python",
   "nbconvert_exporter": "python",
   "pygments_lexer": "ipython3",
   "version": "3.13.3"
  }
 },
 "nbformat": 4,
 "nbformat_minor": 5
}
